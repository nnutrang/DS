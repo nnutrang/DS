{
 "cells": [
  {
   "cell_type": "markdown",
   "id": "1c7f5c36",
   "metadata": {},
   "source": [
    "# Đồ Án Cuối Kỳ"
   ]
  },
  {
   "cell_type": "markdown",
   "id": "706dc657",
   "metadata": {},
   "source": [
    "## Môi trường code"
   ]
  },
  {
   "cell_type": "code",
   "execution_count": 1,
   "id": "b03384ae",
   "metadata": {},
   "outputs": [
    {
     "data": {
      "text/plain": [
       "'/home/uyen_trang/miniconda3/envs/min_ds-env/bin/python'"
      ]
     },
     "execution_count": 1,
     "metadata": {},
     "output_type": "execute_result"
    }
   ],
   "source": [
    "import sys\n",
    "sys.executable"
   ]
  },
  {
   "cell_type": "markdown",
   "id": "9d134961",
   "metadata": {},
   "source": [
    "## Import các thư viện cần thiết"
   ]
  },
  {
   "cell_type": "code",
   "execution_count": 30,
   "id": "b4458189",
   "metadata": {},
   "outputs": [],
   "source": [
    "import pandas as pd\n",
    "import numpy as np"
   ]
  },
  {
   "cell_type": "markdown",
   "id": "829831c8",
   "metadata": {},
   "source": [
    "## Thu thập dữ liệu"
   ]
  },
  {
   "cell_type": "markdown",
   "id": "817899ce",
   "metadata": {},
   "source": [
    "Dữ liệu được thu thập trên Kaggle"
   ]
  },
  {
   "cell_type": "markdown",
   "id": "5eb6e5e4",
   "metadata": {},
   "source": [
    "## Khám phá dữ liệu"
   ]
  },
  {
   "cell_type": "markdown",
   "id": "9927e400",
   "metadata": {},
   "source": [
    "## Đọc dữ liệu từ file csv"
   ]
  },
  {
   "cell_type": "code",
   "execution_count": 3,
   "id": "0a40a1d5",
   "metadata": {},
   "outputs": [
    {
     "data": {
      "text/html": [
       "<div>\n",
       "<style scoped>\n",
       "    .dataframe tbody tr th:only-of-type {\n",
       "        vertical-align: middle;\n",
       "    }\n",
       "\n",
       "    .dataframe tbody tr th {\n",
       "        vertical-align: top;\n",
       "    }\n",
       "\n",
       "    .dataframe thead th {\n",
       "        text-align: right;\n",
       "    }\n",
       "</style>\n",
       "<table border=\"1\" class=\"dataframe\">\n",
       "  <thead>\n",
       "    <tr style=\"text-align: right;\">\n",
       "      <th></th>\n",
       "      <th>Uniq Id</th>\n",
       "      <th>Crawl Timestamp</th>\n",
       "      <th>Category</th>\n",
       "      <th>Product Title</th>\n",
       "      <th>Product Description</th>\n",
       "      <th>Brand</th>\n",
       "      <th>Pack Size Or Quantity</th>\n",
       "      <th>Mrp</th>\n",
       "      <th>Price</th>\n",
       "      <th>Site Name</th>\n",
       "      <th>Offers</th>\n",
       "      <th>Combo Offers</th>\n",
       "      <th>Stock Availibility</th>\n",
       "      <th>Product Asin</th>\n",
       "      <th>Image Urls</th>\n",
       "    </tr>\n",
       "  </thead>\n",
       "  <tbody>\n",
       "    <tr>\n",
       "      <th>0</th>\n",
       "      <td>eb49cc038190f6f03c272f79fbbce894</td>\n",
       "      <td>2019-10-30 11:38:11 +0000</td>\n",
       "      <td>Skin Care</td>\n",
       "      <td>Lee posh Lactic Acid 60% Anti ageing Pigmenta...</td>\n",
       "      <td>PROFESSIONAL GRADE Face Peel: this peel stimul...</td>\n",
       "      <td>Lee Posh</td>\n",
       "      <td>NaN</td>\n",
       "      <td>2000.00</td>\n",
       "      <td>799.00</td>\n",
       "      <td>Amazon In</td>\n",
       "      <td>60.05%</td>\n",
       "      <td>NaN</td>\n",
       "      <td>YES</td>\n",
       "      <td>B072BGHNJ1</td>\n",
       "      <td>https://images-na.ssl-images-amazon.com/images...</td>\n",
       "    </tr>\n",
       "    <tr>\n",
       "      <th>1</th>\n",
       "      <td>1657cc30c438affede6a5060d6847363</td>\n",
       "      <td>2019-10-31 15:46:54 +0000</td>\n",
       "      <td>Skin Care</td>\n",
       "      <td>Branded SLB Works New 1.5mm Titanium 1200 nee...</td>\n",
       "      <td>Item name: 1.5mm titanium 1200 needles microne...</td>\n",
       "      <td>SLB Works</td>\n",
       "      <td>NaN</td>\n",
       "      <td>2040.00</td>\n",
       "      <td>2040.00</td>\n",
       "      <td>Amazon In</td>\n",
       "      <td>0%</td>\n",
       "      <td>NaN</td>\n",
       "      <td>YES</td>\n",
       "      <td>B07QDTZYSJ</td>\n",
       "      <td>https://images-na.ssl-images-amazon.com/images...</td>\n",
       "    </tr>\n",
       "    <tr>\n",
       "      <th>2</th>\n",
       "      <td>41654633cce38c8650690f6dbac01fd3</td>\n",
       "      <td>2019-10-30 09:53:23 +0000</td>\n",
       "      <td>Skin Care</td>\n",
       "      <td>Generic 1 Pc brand snail eye cream remove dar...</td>\n",
       "      <td>Use: eye, item type: cream, net wt: 20g, gzzz:...</td>\n",
       "      <td>Generic</td>\n",
       "      <td>NaN</td>\n",
       "      <td>1824.00</td>\n",
       "      <td>1042.00</td>\n",
       "      <td>Amazon In</td>\n",
       "      <td>42.87%</td>\n",
       "      <td>NaN</td>\n",
       "      <td>YES</td>\n",
       "      <td>B07DCSN8MP</td>\n",
       "      <td>https://images-na.ssl-images-amazon.com/images...</td>\n",
       "    </tr>\n",
       "    <tr>\n",
       "      <th>3</th>\n",
       "      <td>08b1bd85c3efc2d7aa556fd79b073382</td>\n",
       "      <td>2019-10-29 16:16:52 +0000</td>\n",
       "      <td>Skin Care</td>\n",
       "      <td>Generic Anti Snoring Snore Stopper Sleep Apne...</td>\n",
       "      <td>Prevent the tongue from dropping backward or b...</td>\n",
       "      <td>Generic</td>\n",
       "      <td>NaN</td>\n",
       "      <td>2185.00</td>\n",
       "      <td>1399.00</td>\n",
       "      <td>Amazon In</td>\n",
       "      <td>35.97%</td>\n",
       "      <td>NaN</td>\n",
       "      <td>YES</td>\n",
       "      <td>B07GLW9VQN</td>\n",
       "      <td>https://images-na.ssl-images-amazon.com/images...</td>\n",
       "    </tr>\n",
       "    <tr>\n",
       "      <th>4</th>\n",
       "      <td>3ac3f213732512d1d11bb73ab3b1900f</td>\n",
       "      <td>2019-10-31 09:32:06 +0000</td>\n",
       "      <td>Grocery &amp; Gourmet Foods</td>\n",
       "      <td>Harveys Crunchy &amp; Creame Gourmet Delicacies C...</td>\n",
       "      <td>Harvey's wafer Cream Wafer 110g. Made in India</td>\n",
       "      <td>Harveys</td>\n",
       "      <td>NaN</td>\n",
       "      <td>594.00</td>\n",
       "      <td>570.00</td>\n",
       "      <td>Amazon In</td>\n",
       "      <td>4.04%</td>\n",
       "      <td>NaN</td>\n",
       "      <td>YES</td>\n",
       "      <td>B07NFYYLF1</td>\n",
       "      <td>https://images-na.ssl-images-amazon.com/images...</td>\n",
       "    </tr>\n",
       "  </tbody>\n",
       "</table>\n",
       "</div>"
      ],
      "text/plain": [
       "                            Uniq Id            Crawl Timestamp  \\\n",
       "0  eb49cc038190f6f03c272f79fbbce894  2019-10-30 11:38:11 +0000   \n",
       "1  1657cc30c438affede6a5060d6847363  2019-10-31 15:46:54 +0000   \n",
       "2  41654633cce38c8650690f6dbac01fd3  2019-10-30 09:53:23 +0000   \n",
       "3  08b1bd85c3efc2d7aa556fd79b073382  2019-10-29 16:16:52 +0000   \n",
       "4  3ac3f213732512d1d11bb73ab3b1900f  2019-10-31 09:32:06 +0000   \n",
       "\n",
       "                  Category                                      Product Title  \\\n",
       "0                Skin Care   Lee posh Lactic Acid 60% Anti ageing Pigmenta...   \n",
       "1                Skin Care   Branded SLB Works New 1.5mm Titanium 1200 nee...   \n",
       "2                Skin Care   Generic 1 Pc brand snail eye cream remove dar...   \n",
       "3                Skin Care   Generic Anti Snoring Snore Stopper Sleep Apne...   \n",
       "4  Grocery & Gourmet Foods   Harveys Crunchy & Creame Gourmet Delicacies C...   \n",
       "\n",
       "                                 Product Description      Brand  \\\n",
       "0  PROFESSIONAL GRADE Face Peel: this peel stimul...   Lee Posh   \n",
       "1  Item name: 1.5mm titanium 1200 needles microne...  SLB Works   \n",
       "2  Use: eye, item type: cream, net wt: 20g, gzzz:...    Generic   \n",
       "3  Prevent the tongue from dropping backward or b...    Generic   \n",
       "4     Harvey's wafer Cream Wafer 110g. Made in India    Harveys   \n",
       "\n",
       "  Pack Size Or Quantity      Mrp    Price  Site Name  Offers Combo Offers  \\\n",
       "0                   NaN  2000.00   799.00  Amazon In  60.05%          NaN   \n",
       "1                   NaN  2040.00  2040.00  Amazon In      0%          NaN   \n",
       "2                   NaN  1824.00  1042.00  Amazon In  42.87%          NaN   \n",
       "3                   NaN  2185.00  1399.00  Amazon In  35.97%          NaN   \n",
       "4                   NaN   594.00   570.00  Amazon In   4.04%          NaN   \n",
       "\n",
       "  Stock Availibility Product Asin  \\\n",
       "0                YES   B072BGHNJ1   \n",
       "1                YES   B07QDTZYSJ   \n",
       "2                YES   B07DCSN8MP   \n",
       "3                YES   B07GLW9VQN   \n",
       "4                YES   B07NFYYLF1   \n",
       "\n",
       "                                          Image Urls  \n",
       "0  https://images-na.ssl-images-amazon.com/images...  \n",
       "1  https://images-na.ssl-images-amazon.com/images...  \n",
       "2  https://images-na.ssl-images-amazon.com/images...  \n",
       "3  https://images-na.ssl-images-amazon.com/images...  \n",
       "4  https://images-na.ssl-images-amazon.com/images...  "
      ]
     },
     "execution_count": 3,
     "metadata": {},
     "output_type": "execute_result"
    }
   ],
   "source": [
    "df = pd.read_csv('data.csv')\n",
    "df.head()"
   ]
  },
  {
   "cell_type": "markdown",
   "id": "d342c7b6",
   "metadata": {},
   "source": [
    "### Dữ liệu có bao nhiêu dòng và cột?"
   ]
  },
  {
   "cell_type": "code",
   "execution_count": 4,
   "id": "c5e9c5cd",
   "metadata": {},
   "outputs": [
    {
     "data": {
      "text/plain": [
       "(30000, 15)"
      ]
     },
     "execution_count": 4,
     "metadata": {},
     "output_type": "execute_result"
    }
   ],
   "source": [
    "num_rows = len(df)\n",
    "num_cols = len(df.columns)\n",
    "num_rows, num_cols"
   ]
  },
  {
   "cell_type": "markdown",
   "id": "764a3545",
   "metadata": {},
   "source": [
    "### Ý nghĩa của mỗi dòng. Có vấn đề các dòng có ý nghĩa khác nhau không?"
   ]
  },
  {
   "cell_type": "markdown",
   "id": "38354fbf",
   "metadata": {},
   "source": []
  },
  {
   "cell_type": "markdown",
   "id": "85f46c6c",
   "metadata": {},
   "source": [
    "### Dữ liệu có các dòng bị lặp không?"
   ]
  },
  {
   "cell_type": "code",
   "execution_count": 5,
   "id": "040d352b",
   "metadata": {},
   "outputs": [
    {
     "data": {
      "text/plain": [
       "False"
      ]
     },
     "execution_count": 5,
     "metadata": {},
     "output_type": "execute_result"
    }
   ],
   "source": [
    "have_duplicated_rows = df.duplicated().any()\n",
    "have_duplicated_rows"
   ]
  },
  {
   "cell_type": "markdown",
   "id": "91fa1529",
   "metadata": {},
   "source": [
    "### Ý nghĩa của mỗi cột"
   ]
  },
  {
   "cell_type": "markdown",
   "id": "cf3e4a39",
   "metadata": {},
   "source": []
  },
  {
   "cell_type": "markdown",
   "id": "1f05102b",
   "metadata": {},
   "source": [
    "### Mỗi cột có kiểu dữ liệu gì? Có cột nào có kiểu dữ liệu chưa phù hợp để có thể xử lý tiếp không?"
   ]
  },
  {
   "cell_type": "markdown",
   "id": "d8b37dd5",
   "metadata": {},
   "source": [
    "Lấy `dtype` (kiểu dữ liệu của mỗi phần tử) của mỗi cột trong `df` và lưu kết quả vào series `col_dtypes`; series này có index là tên cột. \n"
   ]
  },
  {
   "cell_type": "code",
   "execution_count": 6,
   "id": "f1e9bb98",
   "metadata": {},
   "outputs": [
    {
     "data": {
      "text/plain": [
       "Uniq Id                  object\n",
       "Crawl Timestamp          object\n",
       "Category                 object\n",
       "Product Title            object\n",
       "Product Description      object\n",
       "Brand                    object\n",
       "Pack Size Or Quantity    object\n",
       "Mrp                      object\n",
       "Price                    object\n",
       "Site Name                object\n",
       "Offers                   object\n",
       "Combo Offers             object\n",
       "Stock Availibility       object\n",
       "Product Asin             object\n",
       "Image Urls               object\n",
       "dtype: object"
      ]
     },
     "execution_count": 6,
     "metadata": {},
     "output_type": "execute_result"
    }
   ],
   "source": [
    "col_type = dict(df.dtypes)\n",
    "col_dtypes=pd.Series(col_type)\n",
    "col_dtypes"
   ]
  },
  {
   "cell_type": "markdown",
   "id": "584b8d9a",
   "metadata": {},
   "source": [
    "### Cột có dtype là object nghĩa là sao?"
   ]
  },
  {
   "cell_type": "markdown",
   "id": "b04587e2",
   "metadata": {},
   "source": [
    "Ta cần biết tập các kiểu dữ liệu thật sự có trong mỗi cột để dễ dàng tiền xử lý"
   ]
  },
  {
   "cell_type": "code",
   "execution_count": 64,
   "id": "d005ca07",
   "metadata": {},
   "outputs": [
    {
     "name": "stdout",
     "output_type": "stream",
     "text": [
      "Uniq Id {<class 'str'>}\n",
      "Crawl Timestamp {<class 'str'>}\n",
      "Category {<class 'str'>}\n",
      "Product Title {<class 'str'>}\n",
      "Product Description {<class 'str'>, <class 'float'>}\n",
      "Brand {<class 'str'>, <class 'float'>}\n",
      "Pack Size Or Quantity {<class 'str'>, <class 'float'>}\n",
      "Mrp {<class 'str'>, <class 'float'>}\n",
      "Price {<class 'str'>, <class 'float'>}\n",
      "Site Name {<class 'str'>}\n",
      "Offers {<class 'str'>, <class 'float'>}\n",
      "Combo Offers {<class 'str'>, <class 'float'>}\n",
      "Stock Availibility {<class 'str'>}\n",
      "Product Asin {<class 'str'>}\n",
      "Image Urls {<class 'str'>}\n"
     ]
    }
   ],
   "source": [
    "def object_type(value):\n",
    "    return type(value)\n",
    "def open_object_dtype(s):\n",
    "    \n",
    "    # YOUR CODE HERE\n",
    "    #raise NotImplementedError()\n",
    "    dtypes = set(s.apply(object_type))\n",
    "    \n",
    "    return dtypes\n",
    "print('Uniq Id',open_object_dtype(df['Uniq Id']))\n",
    "print('Crawl Timestamp',open_object_dtype(df['Crawl Timestamp']))\n",
    "print('Category',open_object_dtype(df['Category']))\n",
    "print('Product Title',open_object_dtype(df['Product Title']))\n",
    "print('Product Description',open_object_dtype(df['Product Description']))\n",
    "print('Brand',open_object_dtype(df['Brand']))\n",
    "print('Pack Size Or Quantity',open_object_dtype(df['Pack Size Or Quantity']))\n",
    "print('Mrp',open_object_dtype(df['Mrp']))\n",
    "print('Price',open_object_dtype(df['Price']))\n",
    "print('Site Name',open_object_dtype(df['Site Name']))\n",
    "print('Offers',open_object_dtype(df['Offers']))\n",
    "print('Combo Offers',open_object_dtype(df['Combo Offers']))\n",
    "print('Stock Availibility',open_object_dtype(df['Stock Availibility']))\n",
    "print('Product Asin',open_object_dtype(df['Product Asin']))\n",
    "print('Image Urls',open_object_dtype(df['Image Urls']))"
   ]
  },
  {
   "cell_type": "markdown",
   "id": "8b71c2af",
   "metadata": {},
   "source": [
    "## Tiền xử lý (nếu cần)"
   ]
  },
  {
   "cell_type": "markdown",
   "id": "24c5ccb4",
   "metadata": {},
   "source": [
    "Ta sẽ tiền xử lý các cột`Crawl Timestamp`, `Mrp`, `Price`, `Offers`"
   ]
  },
  {
   "cell_type": "code",
   "execution_count": 66,
   "id": "7a0425b9",
   "metadata": {},
   "outputs": [
    {
     "data": {
      "text/plain": [
       "87"
      ]
     },
     "execution_count": 66,
     "metadata": {},
     "output_type": "execute_result"
    }
   ],
   "source": [
    "#Pack Size Or Quantity\n",
    "df['Brand'].isnull().sum()\n",
    "#Không xài Pack Size Or Quantity do số lượng giá trị thiếu là 19776 (65%)\n",
    "#Số lượng giá trị thiếu của Brand là 87, nhỏ hơn rất nhiều so với 30 000 nên ta sẽ thực hiện xóa các dòng là null"
   ]
  },
  {
   "cell_type": "code",
   "execution_count": 8,
   "id": "de6b82e6",
   "metadata": {},
   "outputs": [],
   "source": [
    "def p2f(x):\n",
    "    if(type(x) == float):\n",
    "        x= str(x)\n",
    "    return float(x.strip('%'))/100"
   ]
  },
  {
   "cell_type": "markdown",
   "id": "2f3d8572",
   "metadata": {},
   "source": [
    "## Khám phá dữ liệu (tiếp tục)"
   ]
  },
  {
   "cell_type": "markdown",
   "id": "ef69bdc6",
   "metadata": {},
   "source": [
    "### Với mỗi cột numeric, các giá trị được phân phối như thế nào?"
   ]
  },
  {
   "cell_type": "markdown",
   "id": "82be5a24",
   "metadata": {},
   "source": [
    "Với mỗi cột numeric bạn sẽ tính tỉ lệ % giá trị thiếu (từ 0 đến 100), min, max. Bạn lưu kết quả vào dataframe nume_col_profiles_df. Dataframe này có 3 dòng là \"missing_ratio\", \"min\", \"max\"; và có n cột (n là số cột numeric)"
   ]
  },
  {
   "cell_type": "code",
   "execution_count": 9,
   "id": "b46fba50",
   "metadata": {},
   "outputs": [],
   "source": [
    "#nume_col_profiles_df"
   ]
  },
  {
   "cell_type": "markdown",
   "id": "85aa1dad",
   "metadata": {},
   "source": [
    "### Nhận xét về \"missing_ratio\", \"min\", \"max\" của các cột numeric"
   ]
  },
  {
   "cell_type": "markdown",
   "id": "43a516e2",
   "metadata": {},
   "source": []
  },
  {
   "cell_type": "markdown",
   "id": "ec1413f1",
   "metadata": {},
   "source": [
    "### Với mỗi cột categorical, các giá trị được phân phối như thế nào?"
   ]
  },
  {
   "cell_type": "markdown",
   "id": "0e944f40",
   "metadata": {},
   "source": [
    "Với mỗi cột categorical, bạn tính tỉ lệ % giá trị thiếu (từ 0 đến 100), số lượng giá trị khác nhau (không xét giá trị thiếu), list/array các giá trị khác nhau (không xét giá trị thiếu). Bạn lưu kết quả vào dataframe cate_col_profiles_df. Dataframe này có 3 dòng là \"missing_ratio\", \"num_diff_vals\", \"diff_vals\"; và có n cột là (n là số lượng cột categorical)"
   ]
  },
  {
   "cell_type": "code",
   "execution_count": null,
   "id": "f0376ca0",
   "metadata": {},
   "outputs": [],
   "source": []
  },
  {
   "cell_type": "markdown",
   "id": "ba12f46a",
   "metadata": {},
   "source": [
    "### Nhận xét về \"missing_ratio\", \"num_diff_vals\", \"diff_vals\" của các cột categorical"
   ]
  },
  {
   "cell_type": "markdown",
   "id": "055d1ca5",
   "metadata": {},
   "source": []
  },
  {
   "cell_type": "markdown",
   "id": "033dfcff",
   "metadata": {},
   "source": [
    "## Đưa ra câu hỏi có ý nghĩa cần trả lời"
   ]
  },
  {
   "cell_type": "code",
   "execution_count": null,
   "id": "6f94519d",
   "metadata": {},
   "outputs": [],
   "source": []
  },
  {
   "cell_type": "markdown",
   "id": "d725cf6e",
   "metadata": {},
   "source": [
    "## Tiền xử lý (nếu cần) + phân tích dữ liệu để trả lời cho câu hỏi 1"
   ]
  },
  {
   "cell_type": "code",
   "execution_count": null,
   "id": "efccb591",
   "metadata": {},
   "outputs": [],
   "source": []
  },
  {
   "cell_type": "markdown",
   "id": "03a26399",
   "metadata": {},
   "source": [
    "## Tiền xử lý (nếu cần) + phân tích dữ liệu để trả lời cho câu hỏi 2"
   ]
  },
  {
   "cell_type": "code",
   "execution_count": null,
   "id": "84ff09d5",
   "metadata": {},
   "outputs": [],
   "source": []
  }
 ],
 "metadata": {
  "kernelspec": {
   "display_name": "Python 3 (ipykernel)",
   "language": "python",
   "name": "python3"
  },
  "language_info": {
   "codemirror_mode": {
    "name": "ipython",
    "version": 3
   },
   "file_extension": ".py",
   "mimetype": "text/x-python",
   "name": "python",
   "nbconvert_exporter": "python",
   "pygments_lexer": "ipython3",
   "version": "3.8.8"
  }
 },
 "nbformat": 4,
 "nbformat_minor": 5
}
