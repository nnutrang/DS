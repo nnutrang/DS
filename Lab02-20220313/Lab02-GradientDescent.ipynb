{
 "cells": [
  {
   "cell_type": "markdown",
   "metadata": {
    "colab_type": "text",
    "id": "v6pSj40J774r"
   },
   "source": [
    "# Lab02: Gradient Descent.\n",
    "\n",
    "- Student ID: Nguyễn Ngọc Uyên Trang\n",
    "- Student name: 19127074"
   ]
  },
  {
   "cell_type": "markdown",
   "metadata": {
    "colab_type": "text",
    "id": "A_TxwHT3774s"
   },
   "source": [
    "**How to do your homework**\n",
    "\n",
    "\n",
    "You will work directly on this notebook; the word `TODO` indicate the parts you need to do.\n",
    "\n",
    "You can discuss ideas with classmates as well as finding information from the internet, book, etc...; but *this homework must be your*.\n",
    "\n",
    "**How to submit your homework**\n",
    "\n",
    "Before submitting, rerun the notebook (`Kernel` ->` Restart & Run All`).\n",
    "\n",
    "Then create a folder named `ID` (for example, if your ID is 1234567, then name the folder `1234567`) Copy file notebook to this folder, compress and submit it on moodle.\n",
    "\n",
    "**Contents:**\n",
    "- Gradient descent."
   ]
  },
  {
   "cell_type": "markdown",
   "metadata": {
    "colab_type": "text",
    "id": "Idy5YdzJ774t"
   },
   "source": [
    "## 1. Loss landscape\n",
    "![Loss lanscape](img.png) <center>**Figure 1. Loss landscape visualized as a 2D plot. Source: codecamp.vn**<center>\n",
    "\n",
    "&nbsp;&nbsp;&nbsp;&nbsp; The gradient descent method is an iterative optimization algorithm that operates over a loss landscape (also called an optimization surface).As we can see, our loss landscape has many peaks and valleys based on which values our parameters take on. Each peak is a local maximum that represents very high regions of loss – the local maximum with the largest loss across the entire loss landscape is the global maximum. Similarly, we also have local minimum which represents many small regions of loss. The local minimum with the smallest loss across the loss landscape is our global minimum. In an ideal world, we would like to find this global minimum, ensuring our parameters take on the most optimal possible values.\n",
    " \n",
    "&nbsp;&nbsp;&nbsp;&nbsp;Each position along the surface of the corresponds to a particular loss value given a set of\n",
    "parameters $\\mathbf{W}$ (weight matrix) and $\\mathbf{b}$ (bias vector). Our goal is to try different values of $\\mathbf{W}$ and $\\mathbf{b}$, evaluate their loss, and then take a step towards more optimal values that (ideally) have lower loss."
   ]
  },
  {
   "cell_type": "markdown",
   "metadata": {
    "colab_type": "text",
    "id": "1PqdcOh4774u"
   },
   "source": [
    "## 2. The “Gradient” in Gradient Descent"
   ]
  },
  {
   "cell_type": "markdown",
   "metadata": {
    "colab_type": "text",
    "id": "oo700mD-774v"
   },
   "source": [
    "&nbsp;&nbsp;&nbsp;&nbsp;We can use $\\mathbf{W}$ and $\\mathbf{b}$ and to compute a loss function $L$ or we are able to find our relative position on the loss landscape, but **which direction** we should take a step to move closer to the minimum.\n",
    "\n",
    "- All We need to do is follow the slope of the gradient $\\nabla_{\\mathbf{W}}$. We can compute the gradient $\\nabla_{\\mathbf{W}}$ across all dimensions using the following equation:\n",
    "$$\\dfrac{df\\left(x\\right)}{dx}=\\lim_{h\\to0} \\dfrac{f\\left(x+h\\right)-f\\left(x\\right)}{h}$$\n",
    "- But, this equation has 2 problems:\n",
    "    + 1. It’s an *approximation* to the gradient.\n",
    "    + 2. It’s painfully slow.\n",
    "    \n",
    "&nbsp;&nbsp;&nbsp;&nbsp; In practice, we use the **analytic gradient** instead."
   ]
  },
  {
   "cell_type": "markdown",
   "metadata": {
    "colab_type": "text",
    "id": "bF9JcwLP774w"
   },
   "source": [
    "## 3. Implementation"
   ]
  },
  {
   "cell_type": "markdown",
   "metadata": {
    "colab_type": "text",
    "id": "1xS5CesP774x"
   },
   "source": [
    "### 3.1. Import library"
   ]
  },
  {
   "cell_type": "code",
   "execution_count": 1,
   "metadata": {
    "colab": {},
    "colab_type": "code",
    "id": "-IGK04dQ774y"
   },
   "outputs": [],
   "source": [
    "from sklearn.model_selection import train_test_split\n",
    "from sklearn.metrics import classification_report\n",
    "from sklearn.datasets import make_blobs\n",
    "import matplotlib.pyplot as plt\n",
    "import numpy as np"
   ]
  },
  {
   "cell_type": "markdown",
   "metadata": {
    "colab_type": "text",
    "id": "fOifA6w57742"
   },
   "source": [
    "### 3.2. Create data"
   ]
  },
  {
   "cell_type": "code",
   "execution_count": 2,
   "metadata": {
    "colab": {},
    "colab_type": "code",
    "id": "KMk2w2H37743"
   },
   "outputs": [],
   "source": [
    "# generate a 2-class classification problem with 1,000 data points, each data point is a 2D feature vector\n",
    "(X, y) = make_blobs(n_samples=1000, n_features=2, centers=2, cluster_std=1.5, random_state=1)\n",
    "y = y.reshape((y.shape[0], 1))\n",
    "\n",
    "'''insert a column of 1’s as the last entry in the feature matrix  \n",
    "-- allows us to treat the bias as a trainable parameter'''\n",
    "X = np.c_[X, np.ones((X.shape[0]))]\n",
    "\n",
    "# Split data, use 50% of the data for training and the remaining 50% for testing\n",
    "(trainX, testX, trainY, testY) = train_test_split(X, y, test_size=0.5, random_state=42)"
   ]
  },
  {
   "cell_type": "markdown",
   "metadata": {
    "colab_type": "text",
    "id": "hya48LST7746"
   },
   "source": [
    "### 3.3. Training\n",
    "#### Sigmoid function and derivative of the sigmoid function"
   ]
  },
  {
   "cell_type": "code",
   "execution_count": 3,
   "metadata": {
    "colab": {},
    "colab_type": "code",
    "id": "68jwpcF57747"
   },
   "outputs": [],
   "source": [
    "def sigmoid_activation(x):\n",
    "    \n",
    "    \"\"\"compute the sigmoid activation value for a given input\"\"\"\n",
    "    #TODO\n",
    "    return 1.0/(1.0+np.exp(-x))\n",
    "\n",
    "def sigmoid_deriv(x):\n",
    "    '''compute the derivative of the sigmoid function ASSUMING\n",
    "    that the input ‘x‘ has already been passed through the sigmoid\n",
    "    activation function'''\n",
    "    #TODO\n",
    "    return x*(1.0-x)\n"
   ]
  },
  {
   "cell_type": "markdown",
   "metadata": {
    "colab_type": "text",
    "id": "5ahjNpKL774-"
   },
   "source": [
    "#### Compute output"
   ]
  },
  {
   "cell_type": "code",
   "execution_count": 4,
   "metadata": {
    "colab": {},
    "colab_type": "code",
    "id": "GWjPr92f775A"
   },
   "outputs": [],
   "source": [
    "def compute_h(W, X):\n",
    "    \"\"\"\n",
    "    Compute output: Take the dot product between our features ‘X‘ and the weight\n",
    "    matrix ‘W‘, then pass this value through our sigmoid activation function \n",
    "    \"\"\"\n",
    "    #TODO\n",
    "    \n",
    "    return sigmoid_activation(np.dot(X,W))\n",
    "def predict(W, X):\n",
    "    '''Take the dot product between our features and weight matrix, \n",
    "       then pass this value through our sigmoid activation'''\n",
    "    #TODO\n",
    "    #preds=?\n",
    "    preds = compute_h(W, X)\n",
    "    # apply a step function to threshold the outputs to binary\n",
    "    # class labels\n",
    "    preds[preds <= 0.5] = 0\n",
    "    preds[preds > 0] = 1\n",
    "\n",
    "    return preds"
   ]
  },
  {
   "cell_type": "markdown",
   "metadata": {
    "colab_type": "text",
    "id": "BhLUeI3k775E"
   },
   "source": [
    "#### Initialize our weight matrix and list of losses"
   ]
  },
  {
   "cell_type": "code",
   "execution_count": 5,
   "metadata": {
    "colab": {},
    "colab_type": "code",
    "id": "xeXMNCJA775F"
   },
   "outputs": [],
   "source": [
    "W = np.random.randn(X.shape[1], 1)\n",
    "losses = []"
   ]
  },
  {
   "cell_type": "markdown",
   "metadata": {
    "colab_type": "text",
    "id": "m-jgcin5775J"
   },
   "source": [
    "#### Compute gradient"
   ]
  },
  {
   "cell_type": "code",
   "execution_count": 6,
   "metadata": {
    "colab": {},
    "colab_type": "code",
    "id": "XCgmX_YX775K"
   },
   "outputs": [],
   "source": [
    "def compute_gradient(error, h, trainX):\n",
    "    #TODO \n",
    "    \"\"\"\n",
    "    The gradient descent update is the dot product between our\n",
    "    features and the error of the sigmoid derivative of our predictions\n",
    "    \"\"\"\n",
    "    gradient = np.dot(trainX.T,error*sigmoid_deriv(h))\n",
    "    return gradient"
   ]
  },
  {
   "cell_type": "markdown",
   "metadata": {
    "colab_type": "text",
    "id": "Ly9DmOdH775N"
   },
   "source": [
    "#### Training function "
   ]
  },
  {
   "cell_type": "code",
   "execution_count": 7,
   "metadata": {
    "colab": {},
    "colab_type": "code",
    "id": "qp3xRAC8775O"
   },
   "outputs": [],
   "source": [
    "def train(W,trainX, trainY, learning_rate, num_epochs):\n",
    "    for epoch in np.arange(0, num_epochs):\n",
    "        h=compute_h(W,trainX)\n",
    "        # now that we have our predictions, we need to determine the\n",
    "        # ‘error‘, which is the difference between our predictions and\n",
    "        # the true values\n",
    "        error = h - trainY\n",
    "        loss = np.sum(error ** 2)\n",
    "        losses.append(loss)\n",
    "        gradient=compute_gradient(error, h, trainX)\n",
    "        W += -learning_rate * gradient\n",
    "        \n",
    "        if epoch == 0 or (epoch + 1) % 5 == 0:\n",
    "            print(\"Epoch={}, loss={:.7f}\".format(int(epoch + 1),loss))\n",
    "        \n",
    "    return W"
   ]
  },
  {
   "cell_type": "markdown",
   "metadata": {
    "colab_type": "text",
    "id": "_Qhq0x4w775S"
   },
   "source": [
    "#### Train our model\n"
   ]
  },
  {
   "cell_type": "code",
   "execution_count": 8,
   "metadata": {
    "colab": {},
    "colab_type": "code",
    "id": "MqzBTvVb775S",
    "scrolled": true
   },
   "outputs": [
    {
     "name": "stdout",
     "output_type": "stream",
     "text": [
      "Epoch=1, loss=428.1580403\n",
      "Epoch=5, loss=2.0360164\n",
      "Epoch=10, loss=1.3144949\n",
      "Epoch=15, loss=1.0451312\n",
      "Epoch=20, loss=0.9234222\n",
      "Epoch=25, loss=0.8547919\n",
      "Epoch=30, loss=0.8045143\n",
      "Epoch=35, loss=0.7624759\n",
      "Epoch=40, loss=0.7257862\n",
      "Epoch=45, loss=0.6932355\n",
      "Epoch=50, loss=0.6640745\n",
      "Epoch=55, loss=0.6377523\n",
      "Epoch=60, loss=0.6138395\n",
      "Epoch=65, loss=0.5919932\n",
      "Epoch=70, loss=0.5719348\n",
      "Epoch=75, loss=0.5534358\n",
      "Epoch=80, loss=0.5363063\n",
      "Epoch=85, loss=0.5203874\n",
      "Epoch=90, loss=0.5055444\n",
      "Epoch=95, loss=0.4916630\n",
      "Epoch=100, loss=0.4786449\n"
     ]
    }
   ],
   "source": [
    "num_epochs=100\n",
    "learning_rate=0.01\n",
    "W=train(W,trainX, trainY, learning_rate, num_epochs)"
   ]
  },
  {
   "cell_type": "markdown",
   "metadata": {
    "colab_type": "text",
    "id": "qq7eZ3lO775W"
   },
   "source": [
    "#### Evaluate result"
   ]
  },
  {
   "cell_type": "code",
   "execution_count": 9,
   "metadata": {
    "colab": {},
    "colab_type": "code",
    "id": "Ku2P19qg775Y"
   },
   "outputs": [
    {
     "name": "stdout",
     "output_type": "stream",
     "text": [
      "              precision    recall  f1-score   support\n",
      "\n",
      "           0       1.00      1.00      1.00       250\n",
      "           1       1.00      1.00      1.00       250\n",
      "\n",
      "    accuracy                           1.00       500\n",
      "   macro avg       1.00      1.00      1.00       500\n",
      "weighted avg       1.00      1.00      1.00       500\n",
      "\n"
     ]
    }
   ],
   "source": [
    "preds = predict(W, testX)\n",
    "print(classification_report(testY, preds))"
   ]
  },
  {
   "cell_type": "markdown",
   "metadata": {
    "colab_type": "text",
    "id": "Ip44KDZy775f"
   },
   "source": [
    "**TODO: Study about accuracy, recall, precision, f1-score.**\n",
    "- Accuracy: 1.00\n",
    "- Recall: 1.00\n",
    "- Precision: 1.00\n",
    "- F1: 1.00"
   ]
  },
  {
   "cell_type": "code",
   "execution_count": 10,
   "metadata": {
    "colab": {},
    "colab_type": "code",
    "id": "9hfMT33Z775f",
    "scrolled": true
   },
   "outputs": [
    {
     "data": {
      "text/plain": [
       "<matplotlib.collections.PathCollection at 0x7f3534293f70>"
      ]
     },
     "execution_count": 10,
     "metadata": {},
     "output_type": "execute_result"
    },
    {
     "data": {
      "image/png": "[encoded data removed]",
      "text/plain": [
       "<Figure size 842.4x595.44 with 1 Axes>"
      ]
     },
     "metadata": {
      "needs_background": "light"
     },
     "output_type": "display_data"
    }
   ],
   "source": [
    "plt.figure(figsize=(11.7,8.27))\n",
    "plt.title(\"Data\")\n",
    "plt.scatter(testX[:, 0], testX[:, 1], marker=\"o\", c=testY[:, 0], s=30)"
   ]
  },
  {
   "cell_type": "code",
   "execution_count": 11,
   "metadata": {
    "colab": {},
    "colab_type": "code",
    "id": "AisuLUJn775j",
    "scrolled": true
   },
   "outputs": [
    {
     "data": {
      "image/png": "[encoded data removed]",
      "text/plain": [
       "<Figure size 842.4x595.44 with 1 Axes>"
      ]
     },
     "metadata": {
      "needs_background": "light"
     },
     "output_type": "display_data"
    }
   ],
   "source": [
    "plt.figure(figsize=(11.7,8.27))\n",
    "plt.plot(range(0, num_epochs), losses)\n",
    "plt.title(\"Training Loss\")\n",
    "plt.xlabel(\"Epoch #\")\n",
    "plt.ylabel(\"Loss\")\n",
    "plt.show()"
   ]
  },
  {
   "cell_type": "markdown",
   "metadata": {
    "colab_type": "text",
    "id": "xmU7hvqu775m"
   },
   "source": [
    "**TODO: Try out different learning rates. Give me your observation**"
   ]
  },
  {
   "cell_type": "markdown",
   "metadata": {
    "colab": {},
    "colab_type": "code",
    "id": "-3CUU3Oe775m"
   },
   "source": [
    "- Nhận xét: Mô hình nhanh chóng hội tụ khi learning_rate = 1.05 "
   ]
  }
 ],
 "metadata": {
  "colab": {
   "name": "Lab02-GradientDescent.ipynb",
   "provenance": []
  },
  "kernelspec": {
   "display_name": "Python 3 (ipykernel)",
   "language": "python",
   "name": "python3"
  },
  "language_info": {
   "codemirror_mode": {
    "name": "ipython",
    "version": 3
   },
   "file_extension": ".py",
   "mimetype": "text/x-python",
   "name": "python",
   "nbconvert_exporter": "python",
   "pygments_lexer": "ipython3",
   "version": "3.9.0"
  }
 },
 "nbformat": 4,
 "nbformat_minor": 1
}
