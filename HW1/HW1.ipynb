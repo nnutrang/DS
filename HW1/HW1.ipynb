{
 "cells": [
  {
   "cell_type": "markdown",
   "id": "46896a80",
   "metadata": {},
   "source": [
    "# HW1: Các câu lệnh Linux, Python\n",
    "\n",
    "(Cập nhật lần cuối 16/11/2021)\n",
    "\n",
    "Họ tên: Nguyễn Ngọc Uyên Trang\n",
    "\n",
    "MSSV: 19127074"
   ]
  },
  {
   "cell_type": "markdown",
   "id": "98060f23",
   "metadata": {},
   "source": [
    "---"
   ]
  },
  {
   "cell_type": "markdown",
   "id": "155aa0df",
   "metadata": {},
   "source": [
    "## Cách làm bài và nộp bài"
   ]
  },
  {
   "cell_type": "markdown",
   "id": "f181e2a2",
   "metadata": {},
   "source": [
    "&#9889; Bạn lưu ý là mình sẽ dùng chương trình hỗ trợ chấm bài nên bạn cần phải tuân thủ chính xác qui định mà mình đặt ra, nếu không rõ thì hỏi, chứ không nên tự tiện làm theo ý của cá nhân.\n",
    "\n",
    "**Cách làm bài**\n",
    "\n",
    "Bạn sẽ làm trực tiếp trên file notebook này. Đầu tiên, bạn điền họ tên và MSSV vào phần đầu file ở bên trên. Trong file, bạn làm bài ở những chỗ có ghi là:\n",
    "```python\n",
    "# YOUR CODE HERE\n",
    "raise NotImplementedError()\n",
    "```\n",
    "hoặc đối với những phần code không bắt buộc thì là:\n",
    "```python\n",
    "# YOUR CODE HERE (OPTION)\n",
    "```\n",
    "hoặc đối với markdown cell thì là:\n",
    "```markdown\n",
    "YOUR ANSWER HERE\n",
    "```\n",
    "Tất nhiên, khi làm thì bạn xóa dòng `raise NotImplementedError()` đi.\n",
    "Đối những phần yêu cầu code thì thường ở ngay phía dưới sẽ có một (hoặc một số) cell chứa các bộ test để giúp bạn biết đã code đúng hay chưa; nếu chạy cell này không có lỗi gì thì có nghĩa là qua được các bộ test. Trong một số trường hợp, các bộ test có thể sẽ không đầy đủ; nghĩa là, nếu không qua được test thì là code sai, nhưng nếu qua được test thì chưa chắc đã đúng hoàn toàn.\n",
    "\n",
    "Trong khi làm bài, bạn có thể cho in ra màn hình, tạo thêm các cell để test. Nhưng khi nộp bài thì bạn xóa các cell mà bạn tự tạo, xóa hoặc comment các câu lệnh in ra màn hình. Bạn lưu ý <font color=red>không được tự tiện xóa các cell hay sửa code của Thầy</font> (trừ những chỗ được phép sửa như đã nói ở trên).\n",
    "\n",
    "Bạn cố gắng giữ cho code rõ ràng, ngăn nắp: đặt tên biến gợi ý, comment ở những chỗ cần comment, giữ cho một dòng code không quá dài (vì nếu không thì người đọc sẽ phải mất công scroll, bạn có thể dùng qui tắc: một dòng code chỉ nên có tối đa là 79 ký tự). \n",
    "\n",
    "Trong khi làm bài, thường xuyên `Ctrl + S` để lưu lại bài làm của bạn, tránh mất mát thông tin.\n",
    "\n",
    "\n",
    "*Nên nhớ mục tiêu chính ở đây là <font color=green>học, học một cách chân thật</font>. Bạn có thể thảo luận ý tưởng với bạn khác, nhưng <font color=green>code và bài làm phải là của bạn, dựa trên sự hiểu thật sự của bạn</font>. <font color=red>Nếu vi phạm thì sẽ bị 0 điểm cho toàn bộ môn học.</font>*\n",
    "\n",
    "**Cách nộp bài**\n",
    "\n",
    "Khi chấm bài, đầu tiên mình sẽ chọn `Kernel` - `Restart & Run All` để restart và chạy tất cả các cell trong notebook của bạn; do đó, trước khi nộp bài, bạn nên chạy thử `Kernel` - `Restart & Run All` để đảm bảo mọi chuyện diễn ra đúng như mong đợi.\n",
    "\n",
    "Sau đó, bạn tạo thư mục nộp bài theo cấu trúc sau:\n",
    "- Thư mục `MSSV` (vd, nếu bạn có MSSV là 1234567 thì bạn đặt tên thư mục là `1234567`)\n",
    "    - File `HW1.ipynb` (không cần nộp các file khác)\n",
    "\n",
    "Cuối cùng, bạn nén thư mục `MSSV` này lại và nộp ở link trên moodle. <font color=red>Bạn lưu ý tuân thủ chính xác qui định nộp bài.</font>"
   ]
  },
  {
   "cell_type": "markdown",
   "id": "c09ce040",
   "metadata": {},
   "source": [
    "---"
   ]
  },
  {
   "cell_type": "markdown",
   "id": "f5861b79",
   "metadata": {},
   "source": [
    "## Môi trường code"
   ]
  },
  {
   "cell_type": "markdown",
   "id": "a55dd304",
   "metadata": {},
   "source": [
    "Ta thống nhất trong môn này:\n",
    "- Code trên môi trường Linux (bạn đã setup ở HW0)\n",
    "- Dùng Jupyter Notebook hoặc Jupyter Lab để code file .ipynb. Lưu ý: bạn <font color=red>không dùng Google Colab</font>, vì Google Colab có thể xóa một số thông tin meta mà chương trình hỗ trợ chấm bài của mình đã tạo trong file bài tập\n",
    "- Dùng phiên bản các package như trong file \"min_ds-env.yml\" (bạn xem trong HW0 cách dùng Conda để tạo môi trường code từ file .yml và cách kích hoạt môi trường này sau khi đã tạo)"
   ]
  },
  {
   "cell_type": "code",
   "execution_count": 1,
   "id": "f4d0ddac",
   "metadata": {},
   "outputs": [
    {
     "data": {
      "text/plain": [
       "'/home/uyen_trang/miniconda3/envs/min_ds-env/bin/python'"
      ]
     },
     "execution_count": 1,
     "metadata": {},
     "output_type": "execute_result"
    }
   ],
   "source": [
    "import sys\n",
    "sys.executable"
   ]
  },
  {
   "cell_type": "markdown",
   "id": "0aed058f",
   "metadata": {},
   "source": [
    "Nếu không có vấn đề gì thì file chạy python sẽ là file của môi trường code \"min_ds-env\".\n",
    "\n",
    "Trong bài này, ngoài Git & Jupyter Notebook/Lab thì bạn chỉ dùng Python, không dùng các thư viện khác như Numpy, Pandas, ... Trong Python, khi đọc/ghi file csv thì bạn cũng không được dùng các thư viện hỗ trợ như thư viện `csv`."
   ]
  },
  {
   "cell_type": "markdown",
   "id": "8d61e06a",
   "metadata": {},
   "source": [
    "---"
   ]
  },
  {
   "cell_type": "markdown",
   "id": "f1372718",
   "metadata": {},
   "source": [
    "## Import các thư viện cần thiết"
   ]
  },
  {
   "cell_type": "code",
   "execution_count": 2,
   "id": "aa2cfe75",
   "metadata": {},
   "outputs": [],
   "source": [
    "import datetime\n",
    "# YOUR CODE HERE (OPTION)\n"
   ]
  },
  {
   "cell_type": "markdown",
   "id": "cbb29f77",
   "metadata": {},
   "source": [
    "---"
   ]
  },
  {
   "cell_type": "markdown",
   "id": "6098d27a",
   "metadata": {},
   "source": [
    "## Thu thập dữ liệu (3.5đ)"
   ]
  },
  {
   "cell_type": "markdown",
   "id": "d227fd9b",
   "metadata": {},
   "source": [
    "Trong bài tập này, bạn sẽ lấy dữ liệu log của [thùng chứa nbdime](https://github.com/KienTrann/nbdime). Nbdime là công cụ giúp Git có thể diff và merge file Notebook một cách phù hợp (thay vì chỉ coi như là một file text thông thường). Link mình cung cấp không phải là link đến thùng chứa gốc của nbdime mà là thùng chứa mình \"fork\" (đại khái là tạo ra một bản copy) từ thùng chứa gốc. Lý do: mình muốn cố định lại dữ liệu log để có thể cung cấp các bộ test để bạn phần nào biết là đã code đúng hay chưa (còn nếu dùng thùng chứa gốc thì dữ liệu log có thể sẽ thay đổi trong vài ngày tới, các bộ test lúc đó có thể sẽ không còn đúng nữa).\n",
    "\n",
    "Để có thể lấy dữ liệu log thì việc đầu tiên bạn cần làm ở cell bên dưới là: \n",
    "\n",
    "- Dùng câu lệnh Git để clone thùng chứa về; bạn clone vào một thư mục cùng cấp với file notebook này. <font color=gray>Gợi ý: trong Jupyter Notebook, ở code cell, bạn có thể thực hiện một câu lệnh Linux (bao gồm câu lệnh Git) bằng cách thêm dấu ! ở đầu.</font>\n",
    "- Sau đó, để xem thử thư mục vừa clone có nặng không, bạn tính dung lượng tổng cộng của thư mục này và lưu vào biến `repo_size` (`repo_size` là một con số, đơn vị là MB); ta thống nhất: (i) dùng cờ `--apparent-size` khi dùng câu lệnh `du`, (ii) code chỉ cần chạy đúng với thùng chứa cụ thể này. <font color=gray>Gợi ý: trong Jupyter Notebook, bạn có thể gán kết quả của câu lệnh Linux vào biến Python.</font> \\\n",
    "@ Các bạn dùng Mac: trong Mac thì mình nghe nói là câu lệnh `du` không có cờ `--apparent-size` (do câu lệnh `du` của Mac là bản BSD, còn của Linux là bản GNU); bạn có thể xem thử cách cài câu lệnh `du` bản GNU ở [video này](https://youtu.be/VGgTmxXp7xQ?t=894) (trong video là nói về câu lệnh `grep` nhưng mình nghĩ cũng sẽ tương tự với câu lệnh `du`)."
   ]
  },
  {
   "cell_type": "code",
   "execution_count": 3,
   "id": "8bd6ff0b",
   "metadata": {
    "deletable": false,
    "nbgrader": {
     "cell_type": "code",
     "checksum": "f9d6621381f8d838d952e28da52f9eea",
     "grade": true,
     "grade_id": "cell-5984c6f1d3bb0311",
     "locked": false,
     "points": 0.5,
     "schema_version": 3,
     "solution": true,
     "task": false
    }
   },
   "outputs": [
    {
     "name": "stdout",
     "output_type": "stream",
     "text": [
      "Cloning into 'nbdime'...\n",
      "remote: Enumerating objects: 12389, done.\u001b[K\n",
      "remote: Counting objects: 100% (376/376), done.\u001b[K\n",
      "remote: Compressing objects: 100% (256/256), done.\u001b[K\n",
      "remote: Total 12389 (delta 198), reused 234 (delta 117), pack-reused 12013\u001b[K\n",
      "Receiving objects: 100% (12389/12389), 5.21 MiB | 3.11 MiB/s, done.\n",
      "Resolving deltas: 100% (9015/9015), done.\n"
     ]
    },
    {
     "data": {
      "text/plain": [
       "['11M\\t.']"
      ]
     },
     "execution_count": 3,
     "metadata": {},
     "output_type": "execute_result"
    }
   ],
   "source": [
    "# YOUR CODE HERE\n",
    "#raise NotImplementedError()\n",
    "!git clone https://github.com/KienTrann/nbdime.git\n",
    "repo_size=!du -sh --apparent-size\n",
    "repo_size\n",
    "# Thầy HDTH với mình có test thử thì có máy ra 9.7, có máy ra 9.8\n",
    "# (có thể là do phiên bản của câu lệnh du?)"
   ]
  },
  {
   "cell_type": "markdown",
   "id": "b7c4b9c4",
   "metadata": {},
   "source": [
    "Sau khi đã clone thùng chứa về, việc kế tiếp của bạn là dùng các câu lệnh Linux (trong đó có các câu lệnh Git) và Python để lấy dữ liệu log rồi lưu xuống file \"log.tsv\" (định dạng tsv tương tự như csv nhưng các giá trị được cách nhau bởi tab). Để dễ hình dung, bạn có thể dùng Jupyter Lab để mở xem file kết quả đúng \"correct_log.tsv\" mà mình cung cấp. Như bạn có thể thấy, mỗi dòng ứng với một commit (không tính dòng đầu - dòng chứa các tên cột) và gồm các thông tin:\n",
    "- \"Id\" là id (hash) dạng viết gọn của commit\n",
    "- \"ParentIds\" là id dạng viết gọn của (các) commit cha\n",
    "- \"AuthorName\" là tên của tác giả\n",
    "- \"AuthorEmail\" là email của tác giả\n",
    "- \"AuthorDate\" là ngày tác giả thực hiện commit, ngày được format theo chuẩn RFC2822 (xem phần gợi ý ở bên dưới để biết cách lấy ngày theo format này) \n",
    "- \"Subject\" là tựa đề của message (message tương tự như email, ngoài phần \"subject\" thì có thể có thêm phần \"body\"; ở đây ta chỉ lấy phần \"subject\")\n",
    "- \"ChangedFiles\": các file bị thay đổi, nếu có nhiều file thì các file được phân tách bởi dấu phẩy\n",
    "\n",
    "Tại sao mình dùng định dạng tsv thay vì csv? Vì dấu phẩy nhiều khả năng là sẽ có trong phần \"subject\" của message. Tab ít khả năng sẽ có hơn, nhưng nếu có thì bạn hãy thay bằng bốn khoảng trắng.\n",
    "\n",
    "<font color=gray>Gợi ý cho phần này:</font> \n",
    "- <font color=gray>Bạn có thể xem thêm về câu lệnh `git log` [ở đây](https://git-scm.com/book/en/v2/Git-Basics-Viewing-the-Commit-History)</font>\n",
    "- <font color=gray>Khi ở Notebook, bạn thử `cd` đến thư mục clone rồi `pwd` xem? Kết quả như vậy là vì khi thực hiện một dòng lệnh Linux ở Notebook thì Notebook sẽ tạo ra một terminal tạm thời để thực thi dòng lệnh đó trong phút chốc. Như vậy, câu lệnh `cd` vẫn là có `cd` đến thư mục clone nhưng là ở terminal tạm thời; khi câu lệnh `cd` chạy xong thì terminal tạm thời này sẽ được đóng và ta vẫn ở thư mục mà hiện chứa file Notebook. Để có thể `cd` rồi `pwd` thì một cách là ghi 2 câu lệnh này trên một dòng và cách nhau bởi `&&`; lúc này thì cả 2 câu lệnh sẽ được thực thi trên cùng một terminal</font>"
   ]
  },
  {
   "cell_type": "code",
   "execution_count": 4,
   "id": "dd188ac1",
   "metadata": {
    "deletable": false,
    "nbgrader": {
     "cell_type": "code",
     "checksum": "55b0b31d2d3104224a68b2c60ac4fccf",
     "grade": false,
     "grade_id": "cell-7a31931ee1dd0b8b",
     "locked": false,
     "schema_version": 3,
     "solution": true,
     "task": false
    }
   },
   "outputs": [],
   "source": [
    "# YOUR CODE HERE\n",
    "#raise NotImplementedError()\n",
    "def write_file(file_name,commit_list):\n",
    "    with open(file_name, 'w') as file:\n",
    "        for commit in commit_list:\n",
    "            for word in commit[0:-1]:\n",
    "                file.write(word + '\\t')\n",
    "            file.write(commit[-1])\n",
    "                \n",
    "            file.write('\\n')\n",
    "    \n",
    "def get_commit_list():\n",
    "    !cd nbdime \n",
    "    commit_list =[['Id','ParentIds','AuthorName','AuthorEmail','AuthorDate',\n",
    "                   'Subject','ChangedFiles']]\n",
    "    temp =!cd nbdime && git log --pretty=format:\"%h~%p~%an~%ae~%aD~%s\"\n",
    "    for commit in temp:\n",
    "        commit=commit.split('~')\n",
    "        file_changed=[]\n",
    "        if(('Merge'and'pull') not in commit[5] and ('Merge'and'branch')not in commit[5]): #Các subject là 'Merge pull' hoặc 'Merge branch' thì không có file thay đổi        \n",
    "            check = !cd nbdime && git show --pretty=\"format:\" {commit[0]}\n",
    "            if(check):\n",
    "                file_changed = !cd nbdime && git show --pretty=\"format:\" --name-only {commit[0]}\n",
    "            file_changed =','.join(file_changed) #các file được phân tách bởi dấu phẩy\n",
    "        else: file_changed=''\n",
    "        commit.append(file_changed)\n",
    "        commit_list.append(commit)\n",
    "    return commit_list\n",
    "\n",
    "commit_list=get_commit_list()\n",
    "write_file('log.tsv',commit_list)           \n"
   ]
  },
  {
   "cell_type": "code",
   "execution_count": 5,
   "id": "1c507d6f",
   "metadata": {
    "deletable": false,
    "editable": false,
    "nbgrader": {
     "cell_type": "code",
     "checksum": "0423c7b3167b4b74060cf441d2dc344b",
     "grade": true,
     "grade_id": "cell-1671c3f106d5da7d",
     "locked": true,
     "points": 3,
     "schema_version": 3,
     "solution": false,
     "task": false
    }
   },
   "outputs": [],
   "source": [
    "# TEST\n",
    "file = open('log.tsv', 'r')\n",
    "log = file.read()\n",
    "file.close()\n",
    "file = open('correct_log.tsv', 'r')\n",
    "correct_log = file.read()\n",
    "file.close()\n",
    "assert log == correct_log"
   ]
  },
  {
   "cell_type": "markdown",
   "id": "43a99fa4",
   "metadata": {},
   "source": [
    "---"
   ]
  },
  {
   "cell_type": "markdown",
   "id": "804be566",
   "metadata": {},
   "source": [
    "## Khám phá dữ liệu"
   ]
  },
  {
   "cell_type": "markdown",
   "id": "d4673a3c",
   "metadata": {},
   "source": [
    "### Dữ liệu có bao nhiêu dòng và bao nhiêu cột? (0.5đ)"
   ]
  },
  {
   "cell_type": "markdown",
   "id": "8cb31291",
   "metadata": {},
   "source": [
    "Đầu tiên, bạn sẽ đọc dữ liệu từ file \"log.tsv\" (nếu phần thu thập dữ liệu bạn làm chưa đúng thì bạn có thể đọc từ file \"correct_log.tsv\" mà mình đã cung cấp). Bạn lưu kết quả đọc được vào biến `cols`. Biến `cols` là một dictionary, trong đó mỗi phần tử ứng với một cột, key là chuỗi ứng với tên cột, value là list chứa các giá trị của cột (mỗi giá trị bạn cứ tạm để kiểu dữ liệu là chuỗi).\n",
    "\n",
    "Kế tiếp, từ biến `cols`, bạn sẽ tính số dòng và số cột, rồi lần lượt lưu vào hai biến là `num_rows` và `num_cols`."
   ]
  },
  {
   "cell_type": "code",
   "execution_count": 6,
   "id": "3e6f19fd",
   "metadata": {
    "deletable": false,
    "nbgrader": {
     "cell_type": "code",
     "checksum": "2129a14a7289ce808929d5a67e787a07",
     "grade": false,
     "grade_id": "cell-f2f6dbf283e0ccee",
     "locked": false,
     "schema_version": 3,
     "solution": true,
     "task": false
    }
   },
   "outputs": [
    {
     "data": {
      "text/plain": [
       "(1928, 7)"
      ]
     },
     "execution_count": 6,
     "metadata": {},
     "output_type": "execute_result"
    }
   ],
   "source": [
    "# YOUR CODE HERE\n",
    "#raise NotImplementedError()\n",
    "def get_cols():\n",
    "    file = open('log.tsv', 'r')\n",
    "    Lines = file.readlines()\n",
    "    cols={}\n",
    "    keys = Lines[0].strip().split('\\t')\n",
    "    for i in keys:\n",
    "        cols[i] =[]\n",
    "    for line in Lines[1:]:\n",
    "        line = line.strip().split('\\t')\n",
    "        cols['Id'].append(line[0])\n",
    "        cols['ParentIds'].append(line[1])\n",
    "        cols['AuthorName'].append(line[2])\n",
    "        cols['AuthorEmail'].append(line[3])\n",
    "        cols['AuthorDate'].append(line[4])\n",
    "        cols['Subject'].append(line[5])\n",
    "        try:\n",
    "            cols['ChangedFiles'].append(line[6])\n",
    "        except: \n",
    "            cols['ChangedFiles'].append('')\n",
    "    return cols\n",
    "cols = get_cols()\n",
    "num_rows = len(cols['Id'])\n",
    "num_cols=len(cols)\n",
    "num_rows,num_cols"
   ]
  },
  {
   "cell_type": "code",
   "execution_count": 7,
   "id": "f7e3e0ee",
   "metadata": {
    "deletable": false,
    "editable": false,
    "nbgrader": {
     "cell_type": "code",
     "checksum": "b8aeec5e8bb7d4402d3ade6077db687d",
     "grade": true,
     "grade_id": "cell-cae77558e0985b8d",
     "locked": true,
     "points": 0.5,
     "schema_version": 3,
     "solution": false,
     "task": false
    }
   },
   "outputs": [],
   "source": [
    "# TEST\n",
    "assert num_rows == 1928\n",
    "assert num_cols == 7\n",
    "assert set(cols.keys()) == set(['Id', 'ParentIds', 'AuthorName', \n",
    "                                'AuthorEmail', 'AuthorDate', 'Subject', \n",
    "                                'ChangedFiles'])\n",
    "id_col_len = len(cols['Id'])\n",
    "for col_name in cols:\n",
    "    assert len(cols[col_name]) == id_col_len"
   ]
  },
  {
   "cell_type": "markdown",
   "id": "3d440322",
   "metadata": {},
   "source": [
    "### Mỗi dòng có ý nghĩa gì? Có vấn đề các dòng có ý nghĩa khác nhau không?"
   ]
  },
  {
   "cell_type": "markdown",
   "id": "2bf7cc38",
   "metadata": {},
   "source": [
    "Mỗi dòng ứng với một commit. Có vẻ không có dòng nào \"lạc loài\" (nghĩa là không có vấn đề các dòng có ý nghĩa khác nhau)."
   ]
  },
  {
   "cell_type": "markdown",
   "id": "dfd3b9ac",
   "metadata": {},
   "source": [
    "### Dữ liệu có các dòng bị lặp không? (0.25đ)"
   ]
  },
  {
   "cell_type": "markdown",
   "id": "ea9d9c8f",
   "metadata": {},
   "source": [
    "Có lẽ là không có. Để chắc ăn thì một cách là ta có thể check cột \"Id\"; nếu cột \"Id\" không có giá trị bị lặp thì có thể kết luận là không có dòng bị lặp. Bạn sẽ làm vụ này và lưu kết quả check vào biến `duplicated_id`; biến này bằng True nếu cột \"Id\" có giá trị lặp và bằng False nếu ngược lại."
   ]
  },
  {
   "cell_type": "code",
   "execution_count": 8,
   "id": "c1625ffc",
   "metadata": {
    "deletable": false,
    "nbgrader": {
     "cell_type": "code",
     "checksum": "1a76647c83c980ad5211ae3face16788",
     "grade": false,
     "grade_id": "cell-31e053e964e6c9eb",
     "locked": false,
     "schema_version": 3,
     "solution": true,
     "task": false
    }
   },
   "outputs": [],
   "source": [
    "# YOUR CODE HERE\n",
    "#raise NotImplementedError()\n",
    "Id_set = set(cols['Id'])\n",
    "if(len(Id_set) == len(cols['Id'])):\n",
    "    duplicated_id= False\n",
    "else: duplicated_id=True"
   ]
  },
  {
   "cell_type": "code",
   "execution_count": 9,
   "id": "e0516bc2",
   "metadata": {
    "deletable": false,
    "editable": false,
    "nbgrader": {
     "cell_type": "code",
     "checksum": "42bf24e55c7bd536e139c6244328b218",
     "grade": true,
     "grade_id": "cell-ab5957518b489fa7",
     "locked": true,
     "points": 0.25,
     "schema_version": 3,
     "solution": false,
     "task": false
    }
   },
   "outputs": [],
   "source": [
    "# TEST\n",
    "assert duplicated_id == False"
   ]
  },
  {
   "cell_type": "markdown",
   "id": "f019928b",
   "metadata": {},
   "source": [
    "### Mỗi cột có ý nghĩa gì?"
   ]
  },
  {
   "cell_type": "markdown",
   "id": "b9b22dd7",
   "metadata": {},
   "source": [
    "Vụ này mình đã nói lúc thu thập dữ liệu. Ở đây, mình ghi lại một lần nữa:\n",
    "\n",
    "- \"Id\" là id (hash) dạng viết gọn của commit\n",
    "- \"ParentIds\" là id dạng viết gọn của (các) commit cha\n",
    "- \"AuthorName\" là tên của tác giả\n",
    "- \"AuthorEmail\" là email của tác giả\n",
    "- \"AuthorDate\" là ngày tác giả thực hiện commit\n",
    "- \"Subject\" là tựa đề của message (message tương tự như email, ngoài phần \"subject\" thì có thể có thêm phần \"body\"; ở đây ta chỉ lấy phần \"subject\")\n",
    "- \"ChangedFiles\": các file bị thay đổi, nếu có nhiều file thì các file được phân tách bởi dấu phẩy"
   ]
  },
  {
   "cell_type": "markdown",
   "id": "8f0a41a1",
   "metadata": {},
   "source": [
    "### Mỗi cột hiện đang có kiểu dữ liệu gì? Có cột nào có kiểu dữ liệu chưa phù hợp để có thể xử lý tiếp không?"
   ]
  },
  {
   "cell_type": "markdown",
   "id": "b7268c8f",
   "metadata": {},
   "source": [
    "- Các cột \"Id\", \"ParentIds\", \"AuthorName\", \"AuthorEmail\", \"Subject\": kiểu dữ liệu dạng chuỗi là đúng rồi\n",
    "- Cột \"ChangedFiles\": hmm ... có lẽ tạm thời ta vẫn để dạng chuỗi, có gì cần thì ta sẽ xử lý sau\n",
    "- Cột \"AuthorDate\": cần chuyển từ kiểu dữ liệu dạng chuỗi sang datetime; để có thể tiếp tục khám phá tiếp thì ngay sau đây bạn sẽ tiền xử lý vụ này luôn"
   ]
  },
  {
   "cell_type": "markdown",
   "id": "eb45766a",
   "metadata": {},
   "source": [
    "---"
   ]
  },
  {
   "cell_type": "markdown",
   "id": "b94eccc0",
   "metadata": {},
   "source": [
    "## Tiền xử lý (0.5đ)"
   ]
  },
  {
   "cell_type": "markdown",
   "id": "07367649",
   "metadata": {},
   "source": [
    "Ở đây, bạn sẽ chuyển cột \"AuthorDate\" từ dạng chuỗi sang datetime. <font color=gray>Gợi ý: bạn xem [document](https://docs.python.org/3/library/datetime.html#strftime-and-strptime-format-codes) để biết cách truyền format phù hợp cho hàm `strptime`.</font>"
   ]
  },
  {
   "cell_type": "code",
   "execution_count": 10,
   "id": "4f5f670c",
   "metadata": {
    "deletable": false,
    "nbgrader": {
     "cell_type": "code",
     "checksum": "758261b3f6045b402f5abb5f4b080bb4",
     "grade": false,
     "grade_id": "cell-742e74182a9d1936",
     "locked": false,
     "schema_version": 3,
     "solution": true,
     "task": false
    }
   },
   "outputs": [],
   "source": [
    "# YOUR CODE HERE\n",
    "#raise NotImplementedError()\n",
    "for i in range (len(cols['AuthorDate'])):\n",
    "    cols['AuthorDate'][i]=datetime.datetime.strptime(cols['AuthorDate'][i], '%a, %d %b %Y %H:%M:%S %z')"
   ]
  },
  {
   "cell_type": "code",
   "execution_count": 11,
   "id": "d3745ce5",
   "metadata": {
    "deletable": false,
    "editable": false,
    "nbgrader": {
     "cell_type": "code",
     "checksum": "5eca1fcb2e213809282e22ef9e6c8dfe",
     "grade": true,
     "grade_id": "cell-c551b6a15162bb10",
     "locked": true,
     "points": 0.5,
     "schema_version": 3,
     "solution": false,
     "task": false
    }
   },
   "outputs": [],
   "source": [
    "# TEST\n",
    "assert type(cols['AuthorDate'][0]) == datetime.datetime\n",
    "assert cols['AuthorDate'][0] == datetime.datetime(2021, 4, 20, 12, 27, 9, \n",
    "            tzinfo=datetime.timezone(datetime.timedelta(seconds=3600)))"
   ]
  },
  {
   "cell_type": "markdown",
   "id": "ef44a52e",
   "metadata": {},
   "source": [
    "---"
   ]
  },
  {
   "cell_type": "markdown",
   "id": "53154bef",
   "metadata": {},
   "source": [
    "## Khám phá dữ liệu (tiếp tục)"
   ]
  },
  {
   "cell_type": "markdown",
   "id": "d651709d",
   "metadata": {},
   "source": [
    "### Với mỗi cột có kiểu dữ liệu dạng số (numeric) và dạng datetime, các giá trị được phân bố như thế nào? (0.5đ)"
   ]
  },
  {
   "cell_type": "markdown",
   "id": "0d592408",
   "metadata": {},
   "source": [
    "Ở đây thì không có cột dạng số, chỉ có một cột dạng datetime là cột \"AuthorDate\".\n",
    "\n",
    "Đầu tiên, bạn tính tỉ lệ % các giá trị thiếu của cột \"AuthorDate\". <font color=gray>Gợi ý: không cần code, có thể lập luận dựa vào kết quả khi chuyển cột \"AuthorDate\" từ dạng chuỗi sang datetime ở bên trên.</font>"
   ]
  },
  {
   "cell_type": "markdown",
   "id": "38cc0dc8",
   "metadata": {
    "deletable": false,
    "nbgrader": {
     "cell_type": "markdown",
     "checksum": "0d29851ae39f01d9ed0d34f4891a918b",
     "grade": true,
     "grade_id": "cell-47e2584daf9dda74",
     "locked": false,
     "points": 0.25,
     "schema_version": 3,
     "solution": true,
     "task": false
    }
   },
   "source": [
    "YOUR ANSWER HERE\n",
    "\n",
    "Do kết quả khi chuyển cột \"AuthorDate\" từ dạng chuỗi sang `datetime` ở bên trên không xảy ra lỗi, tức không có giá trị `' '` nên tỉ lệ % các giá trị thiếu của cột \"AuthorDate\" = 0%\n"
   ]
  },
  {
   "cell_type": "markdown",
   "id": "109537c1",
   "metadata": {},
   "source": [
    "Tiếp theo, bạn tính min và max của cột \"AuthorDate\", rồi lần lượt lưu vào hai biến `author_date_min` và `author_date_max`."
   ]
  },
  {
   "cell_type": "code",
   "execution_count": 12,
   "id": "154c41c1",
   "metadata": {
    "deletable": false,
    "nbgrader": {
     "cell_type": "code",
     "checksum": "5abe340e46e2811a6fa8c3fea2bf7dd6",
     "grade": false,
     "grade_id": "cell-ed5647763d70e921",
     "locked": false,
     "schema_version": 3,
     "solution": true,
     "task": false
    }
   },
   "outputs": [],
   "source": [
    "# YOUR CODE HERE\n",
    "#raise NotImplementedError()\n",
    "\n",
    "author_date_min=min(cols['AuthorDate'])\n",
    "author_date_max=max(cols['AuthorDate'])"
   ]
  },
  {
   "cell_type": "code",
   "execution_count": 13,
   "id": "b713da5b",
   "metadata": {
    "deletable": false,
    "editable": false,
    "nbgrader": {
     "cell_type": "code",
     "checksum": "c7fd8957fa8f92f3f85288d8cc249fba",
     "grade": true,
     "grade_id": "cell-8bb55737a75c0a6e",
     "locked": true,
     "points": 0.25,
     "schema_version": 3,
     "solution": false,
     "task": false
    }
   },
   "outputs": [],
   "source": [
    "# TEST\n",
    "assert author_date_min == datetime.datetime(2015, 11, 9, 13, 13, 28, \n",
    "            tzinfo=datetime.timezone(datetime.timedelta(seconds=3600)))\n",
    "assert author_date_max == datetime.datetime(2021, 4, 20, 12, 27, 9, \n",
    "            tzinfo=datetime.timezone(datetime.timedelta(seconds=3600)))"
   ]
  },
  {
   "cell_type": "markdown",
   "id": "1e7d1c90",
   "metadata": {},
   "source": [
    "Hmm ... Min và max của cột \"AuthorDate\" không có gì bất thường."
   ]
  },
  {
   "cell_type": "markdown",
   "id": "49a7a821",
   "metadata": {},
   "source": [
    "### Với mỗi cột có kiểu dữ liệu dạng phân loại (categorical), các giá trị được phân bố như thế nào? (1.75đ)"
   ]
  },
  {
   "cell_type": "markdown",
   "id": "9ed2a095",
   "metadata": {},
   "source": [
    "Các cột dạng phân loại là các cột mà không phải là cột \"AuthorDate\". Bạn sẽ lưu thông tin của các cột này vào biến `cate_col_profiles`. Biến này là một dictionary, trong đó mỗi phần tử ứng với một cột dạng phân loại, key là tên cột, value là list gồm: tỉ lệ % giá trị thiếu, số lượng các giá trị khác nhau (không tính giá trị thiếu), set chứa các giá trị khác nhau (không bao gồm giá trị thiếu)."
   ]
  },
  {
   "cell_type": "code",
   "execution_count": 14,
   "id": "f41b8828",
   "metadata": {
    "deletable": false,
    "nbgrader": {
     "cell_type": "code",
     "checksum": "3317a65ff1cce4222cc0a63602dcaef9",
     "grade": false,
     "grade_id": "cell-d9eb895996d7b157",
     "locked": false,
     "schema_version": 3,
     "solution": true,
     "task": false
    }
   },
   "outputs": [],
   "source": [
    "# YOUR CODE HERE\n",
    "#raise NotImplementedError()\n",
    "def count_missing(cols_key):\n",
    "    missing = 0\n",
    "    for value in cols_key:\n",
    "        if(value == ''):\n",
    "            missing +=1\n",
    "    return missing\n",
    "def get_cate_col_profiles(cols):\n",
    "    keys_subset=['Id', 'ParentIds', 'AuthorName', 'AuthorEmail','Subject', 'ChangedFiles']\n",
    "    cate_col_profiles=dict.fromkeys(keys_subset,None)\n",
    "    for key in cate_col_profiles.keys():\n",
    "        cate_col_profiles[key]=[]\n",
    "        missing = count_missing(cols[key])\n",
    "        percent_missing = (missing / len(cols[key]))*100\n",
    "        temp_set = set(cols[key])\n",
    "        temp_set.discard('')\n",
    "        nums_set = len(temp_set)\n",
    "        cate_col_profiles[key].append(percent_missing)\n",
    "        cate_col_profiles[key].append(nums_set)\n",
    "        cate_col_profiles[key].append(temp_set)\n",
    "    return cate_col_profiles\n",
    "cate_col_profiles = get_cate_col_profiles(cols)"
   ]
  },
  {
   "cell_type": "code",
   "execution_count": 15,
   "id": "c2b2d0d3",
   "metadata": {
    "deletable": false,
    "editable": false,
    "nbgrader": {
     "cell_type": "code",
     "checksum": "53f116101747d9d3c845e486cb8ab2e8",
     "grade": true,
     "grade_id": "cell-50123f76f79e1f27",
     "locked": true,
     "points": 1,
     "schema_version": 3,
     "solution": false,
     "task": false
    }
   },
   "outputs": [],
   "source": [
    "# TEST\n",
    "assert set(cate_col_profiles.keys()) == {'AuthorEmail', 'AuthorName', \n",
    "                                         'ChangedFiles', 'Id', \n",
    "                                         'ParentIds', 'Subject'}\n",
    "for col_name, col_profile in cate_col_profiles.items():\n",
    "    assert len(col_profile) == 3\n",
    "    assert len(col_profile[2]) == col_profile[1]\n",
    "assert round(cate_col_profiles['ParentIds'][0], 3) == 0.052\n",
    "assert round(cate_col_profiles['ChangedFiles'][0], 3) == 16.079\n",
    "assert cate_col_profiles['ParentIds'][1] == 1820\n",
    "assert cate_col_profiles['ChangedFiles'][1] == 842"
   ]
  },
  {
   "cell_type": "code",
   "execution_count": 16,
   "id": "f332814f",
   "metadata": {},
   "outputs": [
    {
     "name": "stdout",
     "output_type": "stream",
     "text": [
      "ColName      Miss(%) NumDifVals SomeVals\n",
      "Id           0.000   1928       {'4659b81', 'f014b0f', '26a67d4', ...\n",
      "ParentIds    0.052   1820       {'4659b81', 'f014b0f', '26a67d4', ...\n",
      "AuthorName   0.000   34         {'Charlotte Godley', 'Jonathan Whi...\n",
      "AuthorEmail  0.000   34         {'nbollweg@continuum.io', 'fcollon...\n",
      "Subject      0.000   1860       {'Add failing test for config inhe...\n",
      "ChangedFiles 16.079  842        {'packages/nbdime/src/diff/util.ts...\n"
     ]
    }
   ],
   "source": [
    "# TEST (BY EYES)\n",
    "print(f\"{'ColName':12} {'Miss(%)':7} {'NumDifVals':10} {'SomeVals'}\")\n",
    "for col_name, col_profile in cate_col_profiles.items():\n",
    "    print(f'{col_name:12} {col_profile[0]:<7.3f} {col_profile[1]:<10} {col_profile[2].__repr__()[:34]+\"...\":<}')"
   ]
  },
  {
   "cell_type": "markdown",
   "id": "80b141f0",
   "metadata": {},
   "source": [
    "Bạn quan sát kết quả in ra ở trên (tạm thời chưa để ý đến cột \"Miss(%)\") và cho biết có gì bất thường không? Hay mọi thứ đều bình thường? Cho mình biết tại sao bạn lại kết luận như vậy."
   ]
  },
  {
   "cell_type": "markdown",
   "id": "5f0862e3",
   "metadata": {
    "deletable": false,
    "nbgrader": {
     "cell_type": "markdown",
     "checksum": "6b4e0ea35fa2498c8ca58017183e5ca7",
     "grade": true,
     "grade_id": "cell-88055a6ed4991805",
     "locked": false,
     "points": 0.25,
     "schema_version": 3,
     "solution": true,
     "task": false
    }
   },
   "source": [
    "YOUR ANSWER HERE\n",
    "\n",
    "Cột `Subject` không có ô trống nhưng số lượng subject khác nhau là `1860` < `1928` (tổng số lượng subject) -> có `1928-1860=68` subject giống nhau"
   ]
  },
  {
   "cell_type": "markdown",
   "id": "262f05c9",
   "metadata": {},
   "source": [
    "Kế tiếp, bạn hãy cho in ra các dòng mà có giá trị thiếu (in sao là tùy bạn, miễn là dễ nhìn). Sau đó, bạn hãy quan sát các dòng này để xem tại sao lại bị thiếu (trong trường hợp, bạn không biết tại sao thì cứ ghi nhận là không biết tại sao)."
   ]
  },
  {
   "cell_type": "code",
   "execution_count": 17,
   "id": "b436b01c",
   "metadata": {
    "deletable": false,
    "nbgrader": {
     "cell_type": "code",
     "checksum": "d1a9502c7c37ba7b6600579bec4e5627",
     "grade": true,
     "grade_id": "cell-fda56cd71a2bb407",
     "locked": false,
     "points": 0.25,
     "schema_version": 3,
     "solution": true,
     "task": false
    }
   },
   "outputs": [
    {
     "name": "stdout",
     "output_type": "stream",
     "text": [
      "Id     ParentIds AuthorName AuthorEmail AuthorDate   Subject      ChangedFiles\n",
      "524aac2 2994fb4...Vidar ...  vidartf...  Tue, 20 Apr... Merge pull ... ...\n",
      "ab8e60d f1e18ff...Vidar ...  vidartf...  Wed, 14 Apr... Merge pull ... ...\n",
      "f1e18ff 52f7990...Vidar ...  vidartf...  Wed, 14 Apr... Merge pull ... ...\n",
      "52f7990 8ce708c...Vidar ...  vidartf...  Tue, 13 Apr... Merge pull ... ...\n",
      "8ce708c 4291b8c...Vidar ...  vidartf...  Mon, 12 Apr... Merge pull ... ...\n",
      "075f502 2d1edb8...Vidar ...  vidartf...  Sun, 11 Apr... Merge branc... ...\n",
      "4291b8c ab9f1bc...Vidar ...  vidartf...  Sun, 11 Apr... Merge pull ... ...\n",
      "ab9f1bc c823623...Vidar ...  vidartf...  Sun, 11 Apr... Merge pull ... ...\n",
      "fe2911a c38cfc5...Michał...  5832902...  Sun, 7 Mar ... Merge pull ... ...\n",
      "a0726e5 75363a0...Vidar ...  vidartf...  Thu, 14 Jan... Merge pull ... ...\n",
      "75363a0 f6beb60...Vidar ...  vidartf...  Thu, 7 Jan ... Merge pull ... ...\n",
      "f6beb60 92fc22d...Vidar ...  vidartf...  Fri, 2 Oct ... Merge pull ... ...\n",
      "77cac58 b707946...Vidar ...  vidartf...  Tue, 29 Sep... Merge pull ... ...\n",
      "b707946 141b2dc...Vidar ...  vidartf...  Tue, 29 Sep... Merge pull ... ...\n",
      "141b2dc 0f0a90a...Vidar ...  vidartf...  Tue, 29 Sep... Merge pull ... ...\n",
      "f259cae 8804407...Vidar ...  vidartf...  Fri, 25 Sep... Merge pull ... ...\n",
      "eaf9c06 bf5a540...Vidar ...  vidartf...  Fri, 25 Sep... Merge branc... ...\n",
      "d330173 133c4bf...Vidar ...  vidartf...  Mon, 9 Mar ... Merge pull ... ...\n",
      "133c4bf a9435d5...Vidar ...  vidartf...  Mon, 9 Mar ... Merge pull ... ...\n",
      "a9435d5 a506b66...Vidar ...  vidartf...  Mon, 9 Mar ... Merge pull ... ...\n",
      "a506b66 d067442...Min RK...  benjami...  Fri, 6 Mar ... Merge pull ... ...\n",
      "d067442 d9cbd7b...Vidar ...  vidartf...  Thu, 5 Mar ... Merge pull ... ...\n",
      "d9cbd7b 425c46d...Vidar ...  vidartf...  Thu, 5 Mar ... Merge pull ... ...\n",
      "425c46d 6259cd0...Min RK...  benjami...  Thu, 23 Jan... Merge pull ... ...\n",
      "6259cd0 137182a...Vidar ...  vidartf...  Wed, 20 Nov... Merge pull ... ...\n",
      "137182a a9faba1...Vidar ...  vidartf...  Tue, 19 Nov... Merge pull ... ...\n",
      "a9faba1 cdadb44...Vidar ...  vidartf...  Sat, 31 Aug... Merge pull ... ...\n",
      "cdadb44 ec065a7...Vidar ...  vidartf...  Wed, 7 Aug ... Merge pull ... ...\n",
      "300067c 0590d1b...Vidar ...  vidartf...  Thu, 25 Jul... Merge pull ... ...\n",
      "0590d1b 1f864d2...Vidar ...  vidartf...  Fri, 14 Jun... Merge pull ... ...\n",
      "fabbeb7 ba18b56...Vidar ...  vidartf...  Thu, 16 May... Merge pull ... ...\n",
      "ba18b56 c2635db...Vidar ...  vidartf...  Mon, 29 Apr... Merge pull ... ...\n",
      "8940d58 0910bcd...Vidar ...  vidartf...  Tue, 5 Mar ... Merge pull ... ...\n",
      "0910bcd b8c7829...Vidar ...  vidartf...  Mon, 4 Mar ... Merge pull ... ...\n",
      "b8c7829 91ac9bf...Vidar ...  vidartf...  Mon, 4 Mar ... Merge pull ... ...\n",
      "91ac9bf 31b716e...Vidar ...  vidartf...  Fri, 1 Mar ... Merge pull ... ...\n",
      "31b716e 07714c0...Vidar ...  vidartf...  Fri, 1 Mar ... Merge pull ... ...\n",
      "07714c0 435ce3b...Min RK...  benjami...  Thu, 28 Feb... Merge pull ... ...\n",
      "435ce3b d71758d...Vidar ...  vidartf...  Mon, 18 Feb... Merge pull ... ...\n",
      "c24fc22 5a92521...Vidar ...  vidartf...  Tue, 18 Dec... Merge pull ... ...\n",
      "5a92521 ed222a2...Vidar ...  vidartf...  Mon, 19 Nov... Merge pull ... ...\n",
      "ed222a2 d44e3b5...Vidar ...  vidartf...  Mon, 19 Nov... Merge pull ... ...\n",
      "abdde8f 20e07f4...Vidar ...  vidartf...  Thu, 18 Oct... Merge pull ... ...\n",
      "d3a0962 60a93bc...Vidar ...  vidartf...  Mon, 8 Oct ... Merge pull ... ...\n",
      "959ce75 98c3af9...Vidar ...  vidartf...  Fri, 5 Oct ... Merge pull ... ...\n",
      "98c3af9 98bf4dc...Vidar ...  vidartf...  Thu, 27 Sep... Merge pull ... ...\n",
      "98bf4dc c968e6f...Vidar ...  vidartf...  Thu, 27 Sep... Merge pull ... ...\n",
      "c968e6f d070da0...Vidar ...  vidartf...  Fri, 14 Sep... Merge pull ... ...\n",
      "eef0e50 14137b6...Vidar ...  vidartf...  Mon, 3 Sep ... Merge pull ... ...\n",
      "559bae6 039c821...Vidar ...  vidartf...  Wed, 29 Aug... Merge pull ... ...\n",
      "fb6484a 3d7d95e...Vidar ...  vidartf...  Thu, 16 Aug... Merge pull ... ...\n",
      "3fc3e9a a93b42c...Vidar ...  vidartf...  Tue, 31 Jul... Merge pull ... ...\n",
      "a93b42c 9cf252c...Vidar ...  vidartf...  Tue, 31 Jul... Merge pull ... ...\n",
      "9cf252c fc1af0c...Vidar ...  vidartf...  Mon, 25 Jun... Merge pull ... ...\n",
      "fc1af0c 69585e7...Vidar ...  vidartf...  Mon, 25 Jun... Merge pull ... ...\n",
      "220bc1f cf45e47...Vidar ...  vidartf...  Tue, 19 Jun... Merge pull ... ...\n",
      "cf45e47 7748bd5...Vidar ...  vidartf...  Tue, 19 Jun... Merge pull ... ...\n",
      "7748bd5 a83fdb1...Vidar ...  vidartf...  Tue, 19 Jun... Merge pull ... ...\n",
      "f0d66a6 0e47f41...Vidar ...  vidartf...  Mon, 18 Jun... Merge pull ... ...\n",
      "0e47f41 32df48a...Vidar ...  vidartf...  Fri, 15 Jun... Merge pull ... ...\n",
      "32df48a f50d8e5...Vidar ...  vidartf...  Thu, 14 Jun... Merge pull ... ...\n",
      "f50d8e5 bf8da35...Vidar ...  vidartf...  Wed, 13 Jun... Merge pull ... ...\n",
      "bf8da35 83976ac...Vidar ...  vidartf...  Wed, 13 Jun... Merge pull ... ...\n",
      "c30847b ef9d708...Vidar ...  vidartf...  Mon, 11 Jun... Merge pull ... ...\n",
      "ef9d708 1bb9458...Vidar ...  vidartf...  Mon, 11 Jun... Merge pull ... ...\n",
      "1bb9458 25878a5...Vidar ...  vidartf...  Mon, 11 Jun... Merge pull ... ...\n",
      "25878a5 0234912...Vidar ...  vidartf...  Fri, 8 Jun ... Merge pull ... ...\n",
      "0234912 e510209...Vidar ...  vidartf...  Fri, 8 Jun ... Merge pull ... ...\n",
      "e510209 0e1c4d6...Vidar ...  vidartf...  Thu, 24 May... Merge pull ... ...\n",
      "1b332c8 ffaaf75...Vidar ...  vidartf...  Tue, 15 May... Merge pull ... ...\n",
      "ffaaf75 28a436b...Vidar ...  vidartf...  Mon, 14 May... Merge pull ... ...\n",
      "28a436b b7ececa...Vidar ...  vidartf...  Mon, 14 May... Merge pull ... ...\n",
      "52e68c8 09ce7af...Vidar ...  vidartf...  Tue, 8 May ... Merge pull ... ...\n",
      "09ce7af bd9873c...Vidar ...  vidartf...  Mon, 7 May ... Merge pull ... ...\n",
      "bd9873c f330467...Vidar ...  vidartf...  Mon, 7 May ... Merge pull ... ...\n",
      "f330467 789e5b4...Vidar ...  vidartf...  Fri, 4 May ... Merge pull ... ...\n",
      "2656120 145efe3...Vidar ...  vidartf...  Thu, 3 May ... nbdime-jupy... ...\n",
      "55d56ee d59a446...Vidar ...  vidartf...  Wed, 2 May ... Merge pull ... ...\n",
      "d59a446 14c7c0a...Vidar ...  vidartf...  Wed, 2 May ... Merge pull ... ...\n",
      "e03c861 7914988...Vidar ...  vidartf...  Sat, 28 Apr... Merge pull ... ...\n",
      "7914988 0a60cdc...Vidar ...  vidartf...  Fri, 27 Apr... Merge pull ... ...\n",
      "0a60cdc 35c3c96...Vidar ...  vidartf...  Wed, 25 Apr... Merge pull ... ...\n",
      "e4b9dc6 66cc086...Vidar ...  vidartf...  Tue, 3 Apr ... Merge pull ... ...\n",
      "670e8a0 12dd2ab...Vidar ...  vidartf...  Thu, 22 Mar... Merge pull ... ...\n",
      "77398e0 f16ecac...Min RK...  benjami...  Thu, 22 Mar... Merge pull ... ...\n",
      "f16ecac 350f5ca...Vidar ...  vidartf...  Thu, 22 Mar... Merge pull ... ...\n",
      "350f5ca 8d6421d...Vidar ...  vidartf...  Wed, 21 Mar... Merge pull ... ...\n",
      "8d6421d ac7358f...Vidar ...  vidartf...  Wed, 21 Mar... Merge pull ... ...\n",
      "ac7358f 7c4b998...Vidar ...  vidartf...  Wed, 14 Mar... Merge pull ... ...\n",
      "7c4b998 c21fd7f...Vidar ...  vidartf...  Wed, 14 Mar... Merge pull ... ...\n",
      "c21fd7f eac0417...Vidar ...  vidartf...  Wed, 14 Mar... Merge pull ... ...\n",
      "eac0417 e019d4c...Vidar ...  vidartf...  Wed, 14 Mar... Merge pull ... ...\n",
      "e019d4c 05c5047...Vidar ...  vidartf...  Wed, 14 Mar... Merge pull ... ...\n",
      "05c5047 f0a36a1...Vidar ...  vidartf...  Wed, 14 Mar... Merge pull ... ...\n",
      "f0a36a1 344a450...Vidar ...  vidartf...  Tue, 27 Feb... Merge pull ... ...\n",
      "344a450 4022e8c...Vidar ...  vidartf...  Mon, 8 Jan ... Merge pull ... ...\n",
      "4022e8c f0284ac...Min RK...  benjami...  Wed, 3 Jan ... Merge pull ... ...\n",
      "f0284ac ff6e1fd...Vidar ...  vidartf...  Tue, 12 Dec... Merge pull ... ...\n",
      "2354345 f884858...Vidar ...  vidartf...  Wed, 29 Nov... Merge pull ... ...\n",
      "f884858 dfff8ff...Vidar ...  vidartf...  Tue, 28 Nov... Merge pull ... ...\n",
      "dfff8ff 7240999...Vidar ...  vidartf...  Tue, 28 Nov... Merge pull ... ...\n",
      "7240999 d5a3b66...Vidar ...  vidartf...  Tue, 28 Nov... Merge pull ... ...\n",
      "d5a3b66 e81d466...Min RK...  benjami...  Tue, 28 Nov... Merge pull ... ...\n",
      "e81d466 f7cedce...Min RK...  benjami...  Mon, 27 Nov... Merge pull ... ...\n",
      "ce16aec c1a95e1...Min RK...  benjami...  Fri, 10 Nov... Merge pull ... ...\n",
      "c1a95e1 cd5403a...Min RK...  benjami...  Fri, 10 Nov... Merge pull ... ...\n",
      "06784cd 13d10af...Vidar ...  vidartf...  Wed, 8 Nov ... Merge pull ... ...\n",
      "13d10af 31233af...Min RK...  benjami...  Wed, 8 Nov ... Merge pull ... ...\n",
      "31233af a70fc47...Min RK...  benjami...  Tue, 7 Nov ... Merge pull ... ...\n",
      "a70fc47 3b51405...Min RK...  benjami...  Tue, 7 Nov ... Merge pull ... ...\n",
      "85b9439 fd10644...Vidar ...  vidartf...  Mon, 6 Nov ... Merge pull ... ...\n",
      "fd10644 7bb9fae...Vidar ...  vidartf...  Mon, 6 Nov ... Merge pull ... ...\n",
      "7bb9fae a184e7e...Vidar ...  vidartf...  Sat, 4 Nov ... Merge pull ... ...\n",
      "a184e7e b0327b0...Min RK...  benjami...  Wed, 1 Nov ... Merge pull ... ...\n",
      "b0327b0 e9ba0e4...Vidar ...  vidartf...  Wed, 1 Nov ... Merge pull ... ...\n",
      "e9ba0e4 cad565e...Vidar ...  vidartf...  Wed, 1 Nov ... Merge pull ... ...\n",
      "cad565e 4da3738...Vidar ...  vidartf...  Wed, 1 Nov ... Merge pull ... ...\n",
      "4da3738 a489683...Vidar ...  vidartf...  Tue, 31 Oct... Merge pull ... ...\n",
      "a489683 cfb7408...Min RK...  benjami...  Wed, 25 Oct... Merge pull ... ...\n",
      "cfb7408 bc93659...Min RK...  benjami...  Wed, 25 Oct... Merge pull ... ...\n",
      "bc93659 40dec01...Min RK...  benjami...  Wed, 25 Oct... Merge pull ... ...\n",
      "40dec01 6c3e8bb...Vidar ...  vidartf...  Tue, 24 Oct... Merge pull ... ...\n",
      "6c3e8bb b384cd4...Min RK...  benjami...  Fri, 18 Aug... Merge pull ... ...\n",
      "b384cd4 edfc38a...Min RK...  benjami...  Tue, 8 Aug ... Merge pull ... ...\n",
      "36e6b14 391f448...Min RK...  benjami...  Wed, 12 Jul... Merge branc... ...\n",
      "edfc38a 5f6c38f...Min RK...  benjami...  Wed, 12 Jul... Merge pull ... ...\n",
      "852fd94 9540d0b...Vidar ...  vidartf...  Mon, 10 Jul... Merge pull ... ...\n",
      "9540d0b a7496a2...Min RK...  benjami...  Fri, 26 May... Merge pull ... ...\n",
      "a7496a2 41fd2d3...Vidar ...  vidartf...  Mon, 22 May... Merge pull ... ...\n",
      "b10078b 76df65e...Vidar ...  vidartf...  Fri, 5 May ... Merge pull ... ...\n",
      "76df65e c2ee8eb...Min RK...  benjami...  Wed, 3 May ... Merge pull ... ...\n",
      "393bd56 73f5f70...Min RK...  benjami...  Fri, 21 Apr... Merge pull ... ...\n",
      "73f5f70 c8f5544...Min RK...  benjami...  Fri, 21 Apr... Merge pull ... ...\n",
      "c8f5544 1dbc671...Min RK...  benjami...  Tue, 18 Apr... Merge pull ... ...\n",
      "1dbc671 2424bc4...Min RK...  benjami...  Tue, 11 Apr... Merge pull ... ...\n",
      "2424bc4 38b1502...Vidar ...  vidartf...  Tue, 11 Apr... Merge pull ... ...\n",
      "38b1502 5762bc3...Min RK...  benjami...  Fri, 31 Mar... Merge pull ... ...\n",
      "5762bc3 2640b6d...Min RK...  benjami...  Fri, 31 Mar... Merge pull ... ...\n",
      "a18f1e8 eedd971...Min RK...  benjami...  Sat, 18 Mar... Merge pull ... ...\n",
      "eedd971 a205d4a...Vidar ...  vidartf...  Tue, 14 Mar... Merge pull ... ...\n",
      "25909c8 4530423...Min RK...  benjami...  Thu, 23 Feb... Merge pull ... ...\n",
      "4530423 8f000c5...Min RK...  benjami...  Thu, 23 Feb... Merge pull ... ...\n",
      "8f000c5 4bdc258...Vidar ...  vidartf...  Tue, 21 Feb... Merge pull ... ...\n",
      "4bdc258 83ae911...Min RK...  benjami...  Mon, 20 Feb... Merge pull ... ...\n",
      "83ae911 30a760b...Min RK...  benjami...  Mon, 20 Feb... Merge pull ... ...\n",
      "e64d9f7 352e8a5...Min RK...  benjami...  Fri, 17 Feb... Merge pull ... ...\n",
      "352e8a5 9e6f400...Vidar ...  vidartf...  Thu, 16 Feb... Merge pull ... ...\n",
      "9e6f400 9c4f355...Vidar ...  vidartf...  Thu, 16 Feb... Merge pull ... ...\n",
      "9c4f355 804cea7...Min RK...  benjami...  Thu, 16 Feb... Merge pull ... ...\n",
      "804cea7 9531aa9...Min RK...  benjami...  Thu, 16 Feb... Merge pull ... ...\n",
      "9531aa9 8e493b1...Min RK...  benjami...  Thu, 16 Feb... Merge pull ... ...\n",
      "990fded 77982f9...Min RK...  benjami...  Tue, 7 Feb ... Merge pull ... ...\n",
      "46df21e ba3dbc9...Min RK...  benjami...  Tue, 7 Feb ... Merge branc... ...\n",
      "77982f9 4ae79a8...Min RK...  benjami...  Tue, 7 Feb ... Merge pull ... ...\n",
      "4ae79a8 6d9aaec...Min RK...  benjami...  Tue, 7 Feb ... Merge pull ... ...\n",
      "6d9aaec d08ceab...Vidar ...  vidartf...  Wed, 1 Feb ... Merge pull ... ...\n",
      "b9c3184 5c92cfb...Vidar ...  vidartf...  Thu, 19 Jan... Merge pull ... ...\n",
      "5c92cfb 470eaf8...Martin...  martina...  Tue, 17 Jan... Merge pull ... ...\n",
      "65ced79 84e6cf3...Min RK...  benjami...  Mon, 9 Jan ... Merge pull ... ...\n",
      "84e6cf3 823dfd6...Min RK...  benjami...  Mon, 9 Jan ... Merge pull ... ...\n",
      "823dfd6 b1454bc...Min RK...  benjami...  Mon, 9 Jan ... Merge pull ... ...\n",
      "b1454bc 6bdacd4...Vidar ...  vidartf...  Mon, 9 Jan ... Merge pull ... ...\n",
      "6bdacd4 900b22e...Min RK...  benjami...  Mon, 9 Jan ... Merge pull ... ...\n",
      "900b22e 3df71d0...Min RK...  benjami...  Mon, 9 Jan ... Merge pull ... ...\n",
      "3df71d0 361b2f1...Min RK...  benjami...  Fri, 6 Jan ... Merge pull ... ...\n",
      "361b2f1 9bece08...Vidar ...  vidartf...  Wed, 4 Jan ... Merge pull ... ...\n",
      "9bece08 f311624...Min RK...  benjami...  Wed, 21 Dec... Merge pull ... ...\n",
      "f311624 5560090...Min RK...  benjami...  Wed, 21 Dec... Merge pull ... ...\n",
      "5560090 941a4e1...Min RK...  benjami...  Wed, 21 Dec... Merge pull ... ...\n",
      "941a4e1 ad6ebdc...Min RK...  benjami...  Tue, 20 Dec... Merge pull ... ...\n",
      "ad6ebdc 031b756...Min RK...  benjami...  Tue, 20 Dec... Merge pull ... ...\n",
      "c032666 f384cd1...Min RK...  benjami...  Fri, 16 Dec... Merge pull ... ...\n",
      "f384cd1 c9bde54...Vidar ...  vidartf...  Fri, 16 Dec... Merge pull ... ...\n",
      "c9bde54 c1a0588...Min RK...  benjami...  Fri, 16 Dec... Merge pull ... ...\n",
      "c1a0588 874e618...Min RK...  benjami...  Fri, 16 Dec... Merge pull ... ...\n",
      "874e618 b691ab5...Martin...  martina...  Thu, 15 Dec... Merge pull ... ...\n",
      "b691ab5 fafea8a...Min RK...  benjami...  Tue, 13 Dec... Merge pull ... ...\n",
      "fafea8a 7e63061...Martin...  martina...  Tue, 13 Dec... Merge pull ... ...\n",
      "7e63061 e7f1a48...Martin...  martina...  Mon, 12 Dec... Merge pull ... ...\n",
      "e7f1a48 9a4f9f8...Min RK...  benjami...  Fri, 9 Dec ... Merge pull ... ...\n",
      "9a4f9f8 cd2f57a...Min RK...  benjami...  Fri, 9 Dec ... Merge pull ... ...\n",
      "cd2f57a 26704cd...Martin...  martina...  Tue, 6 Dec ... Merge pull ... ...\n",
      "26704cd e27869d...Min RK...  benjami...  Tue, 6 Dec ... Merge pull ... ...\n",
      "64571fb 8a3a8e4...Martin...  martina...  Tue, 6 Dec ... Merge pull ... ...\n",
      "1ca93bf 0f9e801...Min RK...  benjami...  Mon, 5 Dec ... Merge pull ... ...\n",
      "0f9e801 52e7f16...Min RK...  benjami...  Mon, 5 Dec ... Merge pull ... ...\n",
      "52e7f16 b796d33...Martin...  martina...  Mon, 5 Dec ... Merge pull ... ...\n",
      "b796d33 0aa75f8...Vidar ...  vidartf...  Mon, 5 Dec ... Merge pull ... ...\n",
      "bc69972 f3843ea...Martin...  martina...  Mon, 5 Dec ... Merge branc... ...\n",
      "0aa75f8 da9b138...Martin...  martina...  Mon, 5 Dec ... Merge pull ... ...\n",
      "da9b138 c8ff67e...Min RK...  benjami...  Mon, 5 Dec ... Merge pull ... ...\n",
      "c8ff67e a8dc069...Martin...  martina...  Mon, 5 Dec ... Merge pull ... ...\n",
      "8247775 20bcc2b...Vidar ...  vidartf...  Sat, 3 Dec ... Merge branc... ...\n",
      "a8dc069 938d0d6...Carol ...  carolco...  Fri, 2 Dec ... Merge pull ... ...\n",
      "938d0d6 cb2e3e7...Carol ...  carolco...  Fri, 2 Dec ... Merge pull ... ...\n",
      "cb2e3e7 a780dfa...Min RK...  benjami...  Fri, 2 Dec ... Merge pull ... ...\n",
      "a780dfa 1d49827...Carol ...  carolco...  Fri, 2 Dec ... Merge pull ... ...\n",
      "1d49827 5078eee...Vidar ...  vidartf...  Fri, 2 Dec ... Merge pull ... ...\n",
      "5078eee c375fe4...Martin...  martina...  Fri, 2 Dec ... Merge pull ... ...\n",
      "c375fe4 60bc309...Min RK...  benjami...  Thu, 1 Dec ... Merge pull ... ...\n",
      "60bc309 6ae471f...Martin...  martina...  Thu, 1 Dec ... Merge pull ... ...\n",
      "6ae471f fe4b29a...Martin...  martina...  Thu, 1 Dec ... Merge pull ... ...\n",
      "fe4b29a 44ff95e...Martin...  martina...  Thu, 1 Dec ... Merge pull ... ...\n",
      "44ff95e 43f8bcc...Min RK...  benjami...  Wed, 30 Nov... Merge pull ... ...\n",
      "43f8bcc ff7b295...Vidar ...  vidartf...  Wed, 30 Nov... Merge pull ... ...\n",
      "ff7b295 b0d57d5...Vidar ...  vidartf...  Wed, 30 Nov... Merge pull ... ...\n",
      "b0d57d5 5982dcd...Vidar ...  vidartf...  Wed, 30 Nov... Merge pull ... ...\n",
      "5982dcd 2e520e7...Vidar ...  vidartf...  Wed, 30 Nov... Merge pull ... ...\n",
      "2e520e7 d188aa0...Min RK...  benjami...  Wed, 30 Nov... Merge pull ... ...\n",
      "d188aa0 0d5a79c...Min RK...  benjami...  Wed, 30 Nov... Merge pull ... ...\n",
      "0d5a79c 19d7375...Martin...  martina...  Wed, 30 Nov... Merge pull ... ...\n",
      "19d7375 40979fa...Martin...  martina...  Wed, 30 Nov... Merge pull ... ...\n",
      "40979fa 854f22d...Carol ...  carolco...  Tue, 29 Nov... Merge pull ... ...\n",
      "aeeb049 ad60f74...Vidar ...  vidartf...  Tue, 29 Nov... Merge branc... ...\n",
      "854f22d 5ea5cc1...Min RK...  benjami...  Tue, 29 Nov... Merge pull ... ...\n",
      "5ea5cc1 dee5c9a...Martin...  martina...  Tue, 29 Nov... Merge pull ... ...\n",
      "dee5c9a ac153fc...Carol ...  carolco...  Mon, 28 Nov... Merge pull ... ...\n",
      "ac153fc 8992557...Vidar ...  vidartf...  Mon, 28 Nov... Merge pull ... ...\n",
      "7b81637 6455178...Vidar ...  vidartf...  Mon, 28 Nov... Merge pull ... ...\n",
      "6455178 806239e...Vidar ...  vidartf...  Mon, 28 Nov... Merge pull ... ...\n",
      "806239e b20f4a1...Martin...  martina...  Mon, 28 Nov... Merge pull ... ...\n",
      "b20f4a1 9e4688d...Martin...  martina...  Thu, 24 Nov... Merge pull ... ...\n",
      "9e4688d 773a7ba...Martin...  martina...  Tue, 22 Nov... Merge pull ... ...\n",
      "773a7ba 8bcf827...Min RK...  benjami...  Tue, 22 Nov... Merge pull ... ...\n",
      "8bcf827 ab3cc94...Vidar ...  vidartf...  Tue, 22 Nov... Merge pull ... ...\n",
      "ab3cc94 cb3f3a9...Martin...  martina...  Mon, 21 Nov... Merge pull ... ...\n",
      "cb3f3a9 2b56e31...Martin...  martina...  Mon, 21 Nov... Merge pull ... ...\n",
      "2b56e31 213d30e...Martin...  martina...  Mon, 21 Nov... Merge pull ... ...\n",
      "213d30e 6140d23...Martin...  martina...  Fri, 18 Nov... Merge pull ... ...\n",
      "6140d23 3723b53...Min RK...  benjami...  Fri, 18 Nov... Merge pull ... ...\n",
      "3723b53 0aa5782...Min RK...  benjami...  Fri, 18 Nov... Merge pull ... ...\n",
      "0aa5782 753135a...Martin...  martina...  Thu, 17 Nov... Merge pull ... ...\n",
      "753135a f8767b7...Martin...  martina...  Wed, 16 Nov... Merge pull ... ...\n",
      "f8767b7 2fd4a9e...Vidar ...  vidartf...  Wed, 16 Nov... Merge pull ... ...\n",
      "2fd4a9e 48e2c13...Martin...  martina...  Mon, 14 Nov... Merge pull ... ...\n",
      "48e2c13 c4df69b...Martin...  martina...  Mon, 14 Nov... Merge pull ... ...\n",
      "c4df69b 6a04033...Martin...  martina...  Mon, 14 Nov... Merge pull ... ...\n",
      "6a04033 9f43c3d...Martin...  martina...  Fri, 11 Nov... Merge pull ... ...\n",
      "9f43c3d a5e1f72...Martin...  martina...  Wed, 9 Nov ... Merge pull ... ...\n",
      "e2fc76b ce1f7a5...Vidar ...  vidartf...  Wed, 9 Nov ... Merge branc... ...\n",
      "a5e1f72 43eca25...Martin...  martina...  Wed, 9 Nov ... Merge pull ... ...\n",
      "43eca25 c21cab3...Martin...  martina...  Tue, 8 Nov ... Merge pull ... ...\n",
      "c21cab3 35b7608...Martin...  martina...  Tue, 8 Nov ... Merge pull ... ...\n",
      "35b7608 db46402...Vidar ...  vidartf...  Mon, 7 Nov ... Merge pull ... ...\n",
      "db46402 8792ab4...Martin...  martina...  Mon, 31 Oct... Merge pull ... ...\n",
      "8792ab4 e93a97f...Martin...  martina...  Mon, 31 Oct... Merge pull ... ...\n",
      "e93a97f e3e5f44...Martin...  martina...  Mon, 31 Oct... Merge pull ... ...\n",
      "e3e5f44 39f146f...Vidar ...  vidartf...  Mon, 31 Oct... Merge pull ... ...\n",
      "39f146f f6884b0...Martin...  martina...  Mon, 31 Oct... Merge pull ... ...\n",
      "f6884b0 a57e4e3...Vidar ...  vidartf...  Mon, 31 Oct... Merge pull ... ...\n",
      "f1a348e 31e286d...Vidar ...  vidartf...  Thu, 27 Oct... Merge pull ... ...\n",
      "31e286d acc356a...Martin...  martina...  Wed, 26 Oct... Merge pull ... ...\n",
      "acc356a 481b2cd...Martin...  martina...  Mon, 24 Oct... Merge pull ... ...\n",
      "481b2cd 14ed831...Min RK...  benjami...  Tue, 18 Oct... Merge pull ... ...\n",
      "14ed831 5a6ba9b...Martin...  martina...  Mon, 17 Oct... Merge pull ... ...\n",
      "5a6ba9b e4af609...Vidar ...  vidartf...  Mon, 17 Oct... Merge pull ... ...\n",
      "e4af609 4e03e16...Martin...  martina...  Fri, 14 Oct... Merge pull ... ...\n",
      "4e03e16 c9ffa9c...Martin...  martina...  Fri, 14 Oct... Merge pull ... ...\n",
      "c9ffa9c 4136c51...Martin...  martina...  Fri, 14 Oct... Merge pull ... ...\n",
      "4136c51 da17b37...Martin...  martina...  Fri, 14 Oct... Merge pull ... ...\n",
      "da17b37 8501759...Martin...  martina...  Mon, 10 Oct... Merge pull ... ...\n",
      "8501759 48e865b...Martin...  martina...  Mon, 10 Oct... Merge pull ... ...\n",
      "48e865b b9eca71...Martin...  martina...  Mon, 10 Oct... Merge pull ... ...\n",
      "b9eca71 89974ba...Min RK...  benjami...  Fri, 7 Oct ... Merge pull ... ...\n",
      "89974ba 618b233...Vidar ...  vidartf...  Wed, 5 Oct ... Merge pull ... ...\n",
      "2bed9bb 9824304...Martin...  martina...  Tue, 4 Oct ... Merge pull ... ...\n",
      "9824304 88acecf...Martin...  martina...  Tue, 27 Sep... Merge pull ... ...\n",
      "88acecf fe87b7a...Martin...  martina...  Fri, 23 Sep... Merge pull ... ...\n",
      "fe87b7a ce4583a...Martin...  martina...  Fri, 23 Sep... Merge pull ... ...\n",
      "ce4583a b94db84...Martin...  martina...  Fri, 23 Sep... Merge pull ... ...\n",
      "b94db84 d24fe80...Martin...  martina...  Mon, 12 Sep... Merge pull ... ...\n",
      "d24fe80 4e75c5a...Martin...  martina...  Mon, 29 Aug... Merge pull ... ...\n",
      "4e75c5a 90ede10...Min RK...  benjami...  Wed, 27 Jul... Merge pull ... ...\n",
      "90ede10 b6b9876...Min RK...  benjami...  Wed, 27 Jul... Merge pull ... ...\n",
      "b6b9876 767c7c2...Martin...  martina...  Wed, 27 Jul... Merge pull ... ...\n",
      "767c7c2 84bb398...Martin...  martina...  Tue, 26 Jul... Merge pull ... ...\n",
      "84bb398 37a15fe...Min RK...  benjami...  Tue, 26 Jul... Merge pull ... ...\n",
      "37a15fe ed9023a...Min RK...  benjami...  Mon, 25 Jul... Merge pull ... ...\n",
      "b3343f9 8ff220d...Min RK...  benjami...  Fri, 15 Jul... Merge pull ... ...\n",
      "e387105 55adbce...Min RK...  benjami...  Fri, 15 Jul... Merge pull ... ...\n",
      "55adbce 633fe82...Min RK...  benjami...  Thu, 14 Jul... Merge pull ... ...\n",
      "633fe82 d1952dc...Min RK...  benjami...  Thu, 14 Jul... Merge pull ... ...\n",
      "d1952dc 6691bfc...Min RK...  benjami...  Thu, 14 Jul... Merge pull ... ...\n",
      "6691bfc 0d57ff7...Min RK...  benjami...  Thu, 14 Jul... Merge pull ... ...\n",
      "a8fce37 3fd06d8...Min RK...  benjami...  Thu, 14 Jul... Merge pull ... ...\n",
      "0d9469d 312418e...Min RK...  benjami...  Thu, 14 Jul... Merge pull ... ...\n",
      "312418e 5044f27...Min RK...  benjami...  Thu, 14 Jul... Merge pull ... ...\n",
      "5044f27 7fcd5b2...Min RK...  benjami...  Wed, 13 Jul... Merge pull ... ...\n",
      "015483b dcd6c22...Vidar ...  vidartf...  Thu, 7 Jul ... Merge remot... ...\n",
      "b91fc89 9473ab1...Vidar ...  vidartf...  Thu, 7 Jul ... Merge remot... ...\n",
      "7fcd5b2 a3504cb...Min RK...  benjami...  Wed, 11 May... Merge pull ... ...\n",
      "a3504cb b363220...Min RK...  benjami...  Wed, 4 May ... Merge pull ... ...\n",
      "b363220 614882b...Min RK...  benjami...  Wed, 4 May ... Merge pull ... ...\n",
      "614882b 2e6aba7...Min RK...  benjami...  Wed, 4 May ... Merge pull ... ...\n",
      "2e6aba7 9a2d724...Min RK...  benjami...  Wed, 4 May ... Merge pull ... ...\n",
      "cc31347 a0303a4...Min RK...  benjami...  Thu, 21 Apr... Merge pull ... ...\n",
      "a0303a4 912ee20...Min RK...  benjami...  Mon, 18 Apr... Merge pull ... ...\n",
      "912ee20 f173d83...Carol ...  carolco...  Sun, 17 Apr... Merge pull ... ...\n",
      "f173d83 d15e6fd...Martin...  martina...  Fri, 15 Apr... Merge pull ... ...\n",
      "d15e6fd cc37433...Min RK...  benjami...  Tue, 22 Mar... Merge pull ... ...\n",
      "bc2bbfc 715eb15...Min RK...  benjami...  Mon, 21 Mar... Merge pull ... ...\n",
      "6660a4a 72fc51f...Martin...  martina...  Tue, 15 Mar... Merge pull ... ...\n",
      "72fc51f fbcb81f...Min RK...  benjami...  Sat, 12 Mar... Merge pull ... ...\n",
      "fbcb81f 5af7f14...Martin...  martina...  Tue, 8 Mar ... Merge pull ... ...\n",
      "5af7f14 24a29c2...Martin...  martina...  Tue, 8 Mar ... Merge pull ... ...\n",
      "24a29c2 c261edd...Martin...  martina...  Tue, 8 Mar ... Merge pull ... ...\n",
      "c261edd d20e604...Martin...  martina...  Tue, 8 Mar ... Merge pull ... ...\n",
      "d20e604 91318f6...Martin...  martina...  Mon, 7 Mar ... Merge pull ... ...\n",
      "91318f6 dc6604c...Martin...  martina...  Tue, 23 Feb... Merge pull ... ...\n",
      "dc6604c 7ae62b8...Min RK...  benjami...  Mon, 22 Feb... Merge pull ... ...\n",
      "f87fb2e ...       Martin...  martina...  Mon, 9 Nov ... Initial com... CONTRIBUTI...\n"
     ]
    }
   ],
   "source": [
    "# YOUR CODE HERE\n",
    "#raise NotImplementedError()\n",
    "print(f\"{'Id':7}{'ParentIds':9} {'AuthorName':6} {'AuthorEmail':7} {'AuthorDate':12} {'Subject':13}{'ChangedFiles'}\")\n",
    "\n",
    "for commit in commit_list:\n",
    "    for value in commit:\n",
    "        if(value ==''):\n",
    "            print(f'{commit[0]:8}{commit[1][:7]+\"...\":10}{commit[2][:6]+\"...\":11}{commit[3][:7]+\"...\":12}{commit[4][:11]+\"...\":11} {commit[5][:11]+\"...\":11} {commit[6][:10]+\"...\"}')\n",
    "            break"
   ]
  },
  {
   "cell_type": "markdown",
   "id": "2826f4c7",
   "metadata": {
    "deletable": false,
    "nbgrader": {
     "cell_type": "markdown",
     "checksum": "0f5fa9e719dcc6a28b1a0ad666d3c0a9",
     "grade": true,
     "grade_id": "cell-0ce04cd6c1dd7a31",
     "locked": false,
     "points": 0.25,
     "schema_version": 3,
     "solution": true,
     "task": false
    }
   },
   "source": [
    "YOUR ANSWER HERE\n",
    "\n",
    "-Các commit là commit cha nên sẽ không có `ParentIds`\n",
    "\n",
    "-Các commit có `Subject` là `Merge pull` hoặc `Merge branch` thì không có file thay đổi"
   ]
  },
  {
   "cell_type": "markdown",
   "id": "7fb6df75",
   "metadata": {},
   "source": [
    "---"
   ]
  },
  {
   "cell_type": "markdown",
   "id": "af20a067",
   "metadata": {},
   "source": [
    "## Đưa ra câu hỏi có ý nghĩa cần trả lời"
   ]
  },
  {
   "cell_type": "markdown",
   "id": "6d1383e9",
   "metadata": {},
   "source": [
    "Sau khi khám phá dữ liệu, ta đã hiểu hơn về dữ liệu. Bây giờ, ta hãy xem thử có câu hỏi nào có ý nghĩa mà có thể được trả lời bằng dữ liệu này không.\n",
    "\n",
    "Các câu hỏi có thể có là: \n",
    "- *Câu hỏi 1: trong năm 2021, ai là người có nhiều commit nhất, ai là người có nhiều commit nhì, ...?* \\\n",
    "Tìm câu trả lời cho câu hỏi này để làm gì? \\\n",
    "Hmm ... Chẳng hạn để khen thưởng\n",
    "- *Câu hỏi 2: commit nào là commit cuối cùng (xét trên \"AuthorDate\") đã thay đổi file \"nbdime/webapp/templates/difftool.html\"?* \\\n",
    "Tìm câu trả lời cho câu hỏi này để làm gì? \\\n",
    "Hmm ... Chẳng hạn để đổ tội cho tác giả của commit đó ;-)"
   ]
  },
  {
   "cell_type": "markdown",
   "id": "2b8d3d6a",
   "metadata": {},
   "source": [
    "---"
   ]
  },
  {
   "cell_type": "markdown",
   "id": "0071c835",
   "metadata": {},
   "source": [
    "## Tiền xử lý (nếu cần) + phân tích dữ liệu để trả lời cho câu hỏi 1 (1đ)"
   ]
  },
  {
   "cell_type": "markdown",
   "id": "408c3c24",
   "metadata": {},
   "source": [
    "Nhắc lại câu hỏi 1: *trong năm 2021, ai là người có nhiều commit nhất, ai là người có nhiều commit nhì, ...?*\n",
    "\n",
    "Bạn sẽ lưu kết quả vào biến `wanted_people`. Biến này là một dictionary, mỗi phần tử ứng với một người mà có commit trong năm 2021, key là tên của người đó, value là số lượng commit của người đó. Dictionary này được sort theo value giảm dần."
   ]
  },
  {
   "cell_type": "code",
   "execution_count": 18,
   "id": "937386a9",
   "metadata": {
    "deletable": false,
    "nbgrader": {
     "cell_type": "code",
     "checksum": "164597dfc4cff18b22014680c9345b6e",
     "grade": false,
     "grade_id": "cell-a40eed2ac02f6c2b",
     "locked": false,
     "schema_version": 3,
     "solution": true,
     "task": false
    }
   },
   "outputs": [
    {
     "data": {
      "text/plain": [
       "{'Vidar Tonaas Fauske': 26,\n",
       " 'Alex Bozarth': 9,\n",
       " 'Frederic COLLONVAL': 7,\n",
       " 'Frédéric Collonval': 6,\n",
       " 'krassowski': 2,\n",
       " 'Michał Krassowski': 2}"
      ]
     },
     "execution_count": 18,
     "metadata": {},
     "output_type": "execute_result"
    }
   ],
   "source": [
    "# YOUR CODE HERE\n",
    "#raise NotImplementedError()\n",
    "wanted_people={}\n",
    "for i in range (len(cols['Id'])):\n",
    "    if(cols['AuthorDate'][i].year==2021):\n",
    "        wanted_people[cols['AuthorName'][i]]=wanted_people.get(cols['AuthorName'][i],0)+1\n",
    "wanted_people=dict(sorted(wanted_people.items(), key = lambda x: x[1], reverse = True))\n",
    "wanted_people"
   ]
  },
  {
   "cell_type": "code",
   "execution_count": 19,
   "id": "93459f36",
   "metadata": {
    "deletable": false,
    "editable": false,
    "nbgrader": {
     "cell_type": "code",
     "checksum": "a7294256d2ff774d1305360568b58d73",
     "grade": true,
     "grade_id": "cell-9e312d16b92a0e40",
     "locked": true,
     "points": 1,
     "schema_version": 3,
     "solution": false,
     "task": false
    }
   },
   "outputs": [],
   "source": [
    "# TEST\n",
    "correct_wanted_people = {'Vidar Tonaas Fauske': 26, \n",
    "                         'Alex Bozarth': 9, \n",
    "                         'Frederic COLLONVAL': 7, \n",
    "                         'Frédéric Collonval': 6, \n",
    "                         'krassowski': 2, \n",
    "                         'Michał Krassowski': 2}\n",
    "assert wanted_people == correct_wanted_people"
   ]
  },
  {
   "cell_type": "markdown",
   "id": "331e0d37",
   "metadata": {},
   "source": [
    "---"
   ]
  },
  {
   "cell_type": "markdown",
   "id": "e34f11a1",
   "metadata": {},
   "source": [
    "## Tiền xử lý (nếu cần) + phân tích dữ liệu để trả lời cho câu hỏi 2 (2đ)"
   ]
  },
  {
   "cell_type": "markdown",
   "id": "da4781dc",
   "metadata": {},
   "source": [
    "Nhắc lại câu hỏi 2: *commit nào là commit cuối cùng (xét trên \"AuthorDate\") đã thay đổi file \"nbdime/webapp/templates/difftool.html\"?*\n",
    "\n",
    "Ta thống nhất: không xét các commit \"merge pull request\" vì các commit này không có thông tin về \"ChangedFiles\".\n",
    "\n",
    "Bạn lưu kết quả vào biến `wanted_commit`. Biến này là một dictionary, trong đó mỗi phần tử ứng với một thông tin của commit, key là tên cột, value là giá trị tương ứng."
   ]
  },
  {
   "cell_type": "code",
   "execution_count": 20,
   "id": "c329cf22",
   "metadata": {
    "deletable": false,
    "nbgrader": {
     "cell_type": "code",
     "checksum": "e6cbf3fcba915f428f1ac9b6f208e6ef",
     "grade": false,
     "grade_id": "cell-37a6a90f597ad4a1",
     "locked": false,
     "schema_version": 3,
     "solution": true,
     "task": false
    }
   },
   "outputs": [
    {
     "data": {
      "text/plain": [
       "{'Id': 'be0b5ee',\n",
       " 'ParentIds': '4226179',\n",
       " 'AuthorName': 'Vidar Tonaas Fauske',\n",
       " 'AuthorEmail': 'vidartf@gmail.com',\n",
       " 'AuthorDate': datetime.datetime(2017, 7, 4, 22, 53, 9, tzinfo=datetime.timezone(datetime.timedelta(seconds=7200))),\n",
       " 'Subject': 'jinja2 templates + avoid name collisions with nb',\n",
       " 'ChangedFiles': 'nbdime/webapp/nbdimeserver.py,nbdime/webapp/templates/compare.html,nbdime/webapp/templates/diff.html,nbdime/webapp/templates/difftool.html,nbdime/webapp/templates/merge.html,nbdime/webapp/templates/mergetool.html,nbdime/webapp/templates/nbdimepage.html,setup.py'}"
      ]
     },
     "execution_count": 20,
     "metadata": {},
     "output_type": "execute_result"
    }
   ],
   "source": [
    "# YOUR CODE HERE\n",
    "#raise NotImplementedError()\n",
    "wanted_commit={}\n",
    "max_date=-1\n",
    "for i in range (len(cols['Id'])):\n",
    "    if('nbdime/webapp/templates/difftool.html' in cols['ChangedFiles'][i]):\n",
    "        if(cols['AuthorDate'][i]>cols['AuthorDate'][max_date]):\n",
    "            max_date=i\n",
    "for key,value in cols.items():\n",
    "    wanted_commit[key] = value[max_date]\n",
    "wanted_commit"
   ]
  },
  {
   "cell_type": "code",
   "execution_count": 21,
   "id": "777ead1c",
   "metadata": {
    "deletable": false,
    "editable": false,
    "nbgrader": {
     "cell_type": "code",
     "checksum": "916a7ddb9a0120cadf1501a14a675d3e",
     "grade": true,
     "grade_id": "cell-41c49732faf571f7",
     "locked": true,
     "points": 2,
     "schema_version": 3,
     "solution": false,
     "task": false
    }
   },
   "outputs": [],
   "source": [
    "# TEST\n",
    "correct_wanted_commit = {\\\n",
    "    'Id': 'be0b5ee',\n",
    "    'ParentIds': '4226179',\n",
    "    'AuthorName': 'Vidar Tonaas Fauske',\n",
    "    'AuthorEmail': 'vidartf@gmail.com',\n",
    "    'AuthorDate': datetime.datetime(2017, 7, 4, 22, 53, 9, tzinfo=datetime.timezone(datetime.timedelta(seconds=7200))),\n",
    "    'Subject': 'jinja2 templates + avoid name collisions with nb',\n",
    "    'ChangedFiles': 'nbdime/webapp/nbdimeserver.py,nbdime/webapp/templates/compare.html,nbdime/webapp/templates/diff.html,nbdime/webapp/templates/difftool.html,nbdime/webapp/templates/merge.html,nbdime/webapp/templates/mergetool.html,nbdime/webapp/templates/nbdimepage.html,setup.py'\\\n",
    "}\n",
    "assert wanted_commit == correct_wanted_commit"
   ]
  }
 ],
 "metadata": {
  "kernelspec": {
   "display_name": "Python 3 (ipykernel)",
   "language": "python",
   "name": "python3"
  },
  "language_info": {
   "codemirror_mode": {
    "name": "ipython",
    "version": 3
   },
   "file_extension": ".py",
   "mimetype": "text/x-python",
   "name": "python",
   "nbconvert_exporter": "python",
   "pygments_lexer": "ipython3",
   "version": "3.9.5"
  },
  "toc": {
   "base_numbering": 1,
   "nav_menu": {},
   "number_sections": false,
   "sideBar": true,
   "skip_h1_title": true,
   "title_cell": "Table of Contents",
   "title_sidebar": "Contents",
   "toc_cell": false,
   "toc_position": {
    "height": "calc(100% - 180px)",
    "left": "10px",
    "top": "150px",
    "width": "165px"
   },
   "toc_section_display": true,
   "toc_window_display": true
  }
 },
 "nbformat": 4,
 "nbformat_minor": 5
}
